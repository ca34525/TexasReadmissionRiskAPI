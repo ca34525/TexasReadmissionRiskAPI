{
 "cells": [
  {
   "cell_type": "markdown",
   "id": "c052d56d-f331-4a6d-b425-bf9717b5e0cb",
   "metadata": {},
   "source": [
    "# Step 1: Imports and Data Loading"
   ]
  },
  {
   "cell_type": "code",
   "execution_count": 1,
   "id": "b55a919d-9a2d-409e-bcd1-e7bed896f69d",
   "metadata": {},
   "outputs": [
    {
     "name": "stdout",
     "output_type": "stream",
     "text": [
      "Loading dataset from ../output/readmissions_dataset.parquet...\n",
      "Dataset loaded successfully.\n"
     ]
    },
    {
     "data": {
      "text/html": [
       "<div>\n",
       "<style scoped>\n",
       "    .dataframe tbody tr th:only-of-type {\n",
       "        vertical-align: middle;\n",
       "    }\n",
       "\n",
       "    .dataframe tbody tr th {\n",
       "        vertical-align: top;\n",
       "    }\n",
       "\n",
       "    .dataframe thead th {\n",
       "        text-align: right;\n",
       "    }\n",
       "</style>\n",
       "<table border=\"1\" class=\"dataframe\">\n",
       "  <thead>\n",
       "    <tr style=\"text-align: right;\">\n",
       "      <th></th>\n",
       "      <th>encounter_id</th>\n",
       "      <th>patient_id</th>\n",
       "      <th>readmitted_within_30_days</th>\n",
       "      <th>length_of_stay</th>\n",
       "      <th>age_at_admission</th>\n",
       "      <th>gender</th>\n",
       "      <th>race</th>\n",
       "      <th>marital_status</th>\n",
       "      <th>admission_reason</th>\n",
       "      <th>admission_reason_detail</th>\n",
       "      <th>...</th>\n",
       "      <th>total_claim_cost</th>\n",
       "      <th>income</th>\n",
       "      <th>admission_day_of_week</th>\n",
       "      <th>primary_diagnosis_code</th>\n",
       "      <th>provider_id</th>\n",
       "      <th>payer_dx_interaction</th>\n",
       "      <th>prior_admissions_last_year</th>\n",
       "      <th>num_diagnoses</th>\n",
       "      <th>num_procedures</th>\n",
       "      <th>num_medications</th>\n",
       "    </tr>\n",
       "  </thead>\n",
       "  <tbody>\n",
       "    <tr>\n",
       "      <th>0</th>\n",
       "      <td>fd70210f-52cb-77ef-61c7-aadbd1018a99</td>\n",
       "      <td>e3d3ed64-ca29-b95b-dbba-abfa3ee61b44</td>\n",
       "      <td>0</td>\n",
       "      <td>1</td>\n",
       "      <td>69</td>\n",
       "      <td>male</td>\n",
       "      <td>White</td>\n",
       "      <td>D</td>\n",
       "      <td>Hospital admission (procedure)</td>\n",
       "      <td>Acute non-ST segment elevation myocardial infa...</td>\n",
       "      <td>...</td>\n",
       "      <td>40610.128906</td>\n",
       "      <td>33853</td>\n",
       "      <td>Sunday</td>\n",
       "      <td>401314000</td>\n",
       "      <td>us-npi|9999868992</td>\n",
       "      <td>Medicare_401314000</td>\n",
       "      <td>0</td>\n",
       "      <td>1.0</td>\n",
       "      <td>0.0</td>\n",
       "      <td>4.0</td>\n",
       "    </tr>\n",
       "    <tr>\n",
       "      <th>1</th>\n",
       "      <td>f2fa6d45-a393-6aea-83d4-166fbaa0a4a9</td>\n",
       "      <td>34270d54-36d4-f26b-4e4d-0cdb327cf159</td>\n",
       "      <td>1</td>\n",
       "      <td>1</td>\n",
       "      <td>57</td>\n",
       "      <td>male</td>\n",
       "      <td>White</td>\n",
       "      <td>D</td>\n",
       "      <td>Hospital admission (procedure)</td>\n",
       "      <td>Abnormal findings diagnostic imaging heart+cor...</td>\n",
       "      <td>...</td>\n",
       "      <td>37202.929688</td>\n",
       "      <td>30294</td>\n",
       "      <td>Thursday</td>\n",
       "      <td>274531002</td>\n",
       "      <td>us-npi|9999868992</td>\n",
       "      <td>Aetna_274531002</td>\n",
       "      <td>0</td>\n",
       "      <td>1.0</td>\n",
       "      <td>21.0</td>\n",
       "      <td>0.0</td>\n",
       "    </tr>\n",
       "    <tr>\n",
       "      <th>2</th>\n",
       "      <td>3c16cdb1-a750-7963-b963-cc0f90e727f1</td>\n",
       "      <td>34270d54-36d4-f26b-4e4d-0cdb327cf159</td>\n",
       "      <td>1</td>\n",
       "      <td>2</td>\n",
       "      <td>57</td>\n",
       "      <td>male</td>\n",
       "      <td>White</td>\n",
       "      <td>D</td>\n",
       "      <td>Patient transfer to intensive care unit (proce...</td>\n",
       "      <td>History of coronary artery bypass grafting (si...</td>\n",
       "      <td>...</td>\n",
       "      <td>15647.690430</td>\n",
       "      <td>30294</td>\n",
       "      <td>Thursday</td>\n",
       "      <td>399261000</td>\n",
       "      <td>us-npi|9999868992</td>\n",
       "      <td>Aetna_399261000</td>\n",
       "      <td>1</td>\n",
       "      <td>0.0</td>\n",
       "      <td>6.0</td>\n",
       "      <td>0.0</td>\n",
       "    </tr>\n",
       "    <tr>\n",
       "      <th>3</th>\n",
       "      <td>3fc36a47-cb8f-56a4-3b11-a434126d40ca</td>\n",
       "      <td>34270d54-36d4-f26b-4e4d-0cdb327cf159</td>\n",
       "      <td>0</td>\n",
       "      <td>1</td>\n",
       "      <td>57</td>\n",
       "      <td>male</td>\n",
       "      <td>White</td>\n",
       "      <td>D</td>\n",
       "      <td>Admission to ward (procedure)</td>\n",
       "      <td>History of coronary artery bypass grafting (si...</td>\n",
       "      <td>...</td>\n",
       "      <td>2176.229980</td>\n",
       "      <td>30294</td>\n",
       "      <td>Saturday</td>\n",
       "      <td>399261000</td>\n",
       "      <td>us-npi|9999868992</td>\n",
       "      <td>Aetna_399261000</td>\n",
       "      <td>2</td>\n",
       "      <td>0.0</td>\n",
       "      <td>4.0</td>\n",
       "      <td>0.0</td>\n",
       "    </tr>\n",
       "    <tr>\n",
       "      <th>4</th>\n",
       "      <td>df4e5b66-ca7f-5b68-a5c2-c77def0a94ce</td>\n",
       "      <td>13aebc7f-8e4a-396d-1666-1af41cb27781</td>\n",
       "      <td>0</td>\n",
       "      <td>13</td>\n",
       "      <td>43</td>\n",
       "      <td>male</td>\n",
       "      <td>White</td>\n",
       "      <td>S</td>\n",
       "      <td>Drug rehabilitation and detoxification (regime...</td>\n",
       "      <td>Dependent drug abuse (disorder)</td>\n",
       "      <td>...</td>\n",
       "      <td>119.830002</td>\n",
       "      <td>11631</td>\n",
       "      <td>Monday</td>\n",
       "      <td>6525002</td>\n",
       "      <td>us-npi|9999927293</td>\n",
       "      <td>Anthem_6525002</td>\n",
       "      <td>0</td>\n",
       "      <td>0.0</td>\n",
       "      <td>0.0</td>\n",
       "      <td>0.0</td>\n",
       "    </tr>\n",
       "  </tbody>\n",
       "</table>\n",
       "<p>5 rows × 21 columns</p>\n",
       "</div>"
      ],
      "text/plain": [
       "                           encounter_id                            patient_id  \\\n",
       "0  fd70210f-52cb-77ef-61c7-aadbd1018a99  e3d3ed64-ca29-b95b-dbba-abfa3ee61b44   \n",
       "1  f2fa6d45-a393-6aea-83d4-166fbaa0a4a9  34270d54-36d4-f26b-4e4d-0cdb327cf159   \n",
       "2  3c16cdb1-a750-7963-b963-cc0f90e727f1  34270d54-36d4-f26b-4e4d-0cdb327cf159   \n",
       "3  3fc36a47-cb8f-56a4-3b11-a434126d40ca  34270d54-36d4-f26b-4e4d-0cdb327cf159   \n",
       "4  df4e5b66-ca7f-5b68-a5c2-c77def0a94ce  13aebc7f-8e4a-396d-1666-1af41cb27781   \n",
       "\n",
       "   readmitted_within_30_days  length_of_stay  age_at_admission gender   race  \\\n",
       "0                          0               1                69   male  White   \n",
       "1                          1               1                57   male  White   \n",
       "2                          1               2                57   male  White   \n",
       "3                          0               1                57   male  White   \n",
       "4                          0              13                43   male  White   \n",
       "\n",
       "  marital_status                                   admission_reason  \\\n",
       "0              D                     Hospital admission (procedure)   \n",
       "1              D                     Hospital admission (procedure)   \n",
       "2              D  Patient transfer to intensive care unit (proce...   \n",
       "3              D                      Admission to ward (procedure)   \n",
       "4              S  Drug rehabilitation and detoxification (regime...   \n",
       "\n",
       "                             admission_reason_detail  ... total_claim_cost  \\\n",
       "0  Acute non-ST segment elevation myocardial infa...  ...     40610.128906   \n",
       "1  Abnormal findings diagnostic imaging heart+cor...  ...     37202.929688   \n",
       "2  History of coronary artery bypass grafting (si...  ...     15647.690430   \n",
       "3  History of coronary artery bypass grafting (si...  ...      2176.229980   \n",
       "4                    Dependent drug abuse (disorder)  ...       119.830002   \n",
       "\n",
       "   income  admission_day_of_week primary_diagnosis_code        provider_id  \\\n",
       "0   33853                 Sunday              401314000  us-npi|9999868992   \n",
       "1   30294               Thursday              274531002  us-npi|9999868992   \n",
       "2   30294               Thursday              399261000  us-npi|9999868992   \n",
       "3   30294               Saturday              399261000  us-npi|9999868992   \n",
       "4   11631                 Monday                6525002  us-npi|9999927293   \n",
       "\n",
       "  payer_dx_interaction prior_admissions_last_year  num_diagnoses  \\\n",
       "0   Medicare_401314000                          0            1.0   \n",
       "1      Aetna_274531002                          0            1.0   \n",
       "2      Aetna_399261000                          1            0.0   \n",
       "3      Aetna_399261000                          2            0.0   \n",
       "4       Anthem_6525002                          0            0.0   \n",
       "\n",
       "   num_procedures  num_medications  \n",
       "0             0.0              4.0  \n",
       "1            21.0              0.0  \n",
       "2             6.0              0.0  \n",
       "3             4.0              0.0  \n",
       "4             0.0              0.0  \n",
       "\n",
       "[5 rows x 21 columns]"
      ]
     },
     "execution_count": 1,
     "metadata": {},
     "output_type": "execute_result"
    }
   ],
   "source": [
    "import pandas as pd\n",
    "import lightgbm as lgb\n",
    "import catboost as cb\n",
    "from sklearn.model_selection import train_test_split\n",
    "from sklearn.metrics import accuracy_score, classification_report, roc_auc_score, confusion_matrix\n",
    "from pathlib import Path\n",
    "import seaborn as sns\n",
    "import matplotlib.pyplot as plt\n",
    "\n",
    "# --- Configuration ---\n",
    "DATA_DIR = Path(\"../output\")\n",
    "MODEL_DATA_FILE = DATA_DIR / \"readmissions_dataset.parquet\"\n",
    "\n",
    "# --- Load the Dataset ---\n",
    "print(f\"Loading dataset from {MODEL_DATA_FILE}...\")\n",
    "df = pd.read_parquet(MODEL_DATA_FILE)\n",
    "\n",
    "print(\"Dataset loaded successfully.\")\n",
    "df.head()"
   ]
  },
  {
   "cell_type": "markdown",
   "id": "73fab92c-44bd-4c25-9ece-c4bc01ba271a",
   "metadata": {},
   "source": [
    "# Step 2: Feature Engineering & Preprocessing"
   ]
  },
  {
   "cell_type": "markdown",
   "id": "419eaa78-5e99-48d8-8602-cd82f903e2c3",
   "metadata": {},
   "source": [
    "Next, we'll prepare the data for the models. We need to separate our features from the target variable (readmitted_within_30_days). We will also identify which columns are categorical so the models can handle them correctly. Finally, we split the data into training and testing sets."
   ]
  },
  {
   "cell_type": "code",
   "execution_count": 2,
   "id": "076894f2-a571-4048-8191-0eb8d10beaf5",
   "metadata": {},
   "outputs": [
    {
     "name": "stdout",
     "output_type": "stream",
     "text": [
      "Target variable: readmitted_within_30_days\n",
      "Number of features: 17\n",
      "Training set shape: (83253, 17)\n",
      "Test set shape: (20814, 17)\n"
     ]
    }
   ],
   "source": [
    "# Define the target and features\n",
    "TARGET = 'readmitted_within_30_days'\n",
    "\n",
    "# Drop identifiers and high-cardinality text fields that might not be useful directly\n",
    "features_to_drop = ['encounter_id', 'patient_id', 'admission_reason_detail']\n",
    "X = df.drop(columns=[TARGET] + features_to_drop)\n",
    "y = df[TARGET]\n",
    "\n",
    "# Identify categorical features for the models\n",
    "categorical_features = [\n",
    "    'gender', 'race', 'marital_status', 'admission_reason', \n",
    "    'payer', 'admission_day_of_week', 'primary_diagnosis_code', \n",
    "    'provider_id', 'payer_dx_interaction'\n",
    "]\n",
    "\n",
    "# Convert categorical features to the 'category' dtype for efficiency\n",
    "for col in categorical_features:\n",
    "    X[col] = X[col].astype('category')\n",
    "\n",
    "print(f\"Target variable: {TARGET}\")\n",
    "print(f\"Number of features: {len(X.columns)}\")\n",
    "\n",
    "# Split data into training and testing sets\n",
    "X_train, X_test, y_train, y_test = train_test_split(\n",
    "    X, y, test_size=0.2, random_state=42, stratify=y\n",
    ")\n",
    "\n",
    "print(f\"Training set shape: {X_train.shape}\")\n",
    "print(f\"Test set shape: {X_test.shape}\")"
   ]
  },
  {
   "cell_type": "markdown",
   "id": "c754912a-287a-4e4e-80ee-b564d58e0ec7",
   "metadata": {},
   "source": [
    "# Step 3: Train LightGBM Model"
   ]
  },
  {
   "cell_type": "markdown",
   "id": "54bd8775-b59b-4939-ad3f-1ce509f8b4f3",
   "metadata": {},
   "source": [
    "Now, let's train our first model: LightGBM. It's a fast and efficient gradient-boosting framework. We'll instantiate the classifier and fit it to our training data, telling it which features are categorical."
   ]
  },
  {
   "cell_type": "code",
   "execution_count": 3,
   "id": "dd22a19b-9bad-47ae-8bb8-39a2a35a46c7",
   "metadata": {},
   "outputs": [
    {
     "name": "stdout",
     "output_type": "stream",
     "text": [
      "Training LightGBM model...\n",
      "[LightGBM] [Warning] Categorical features with more bins than the configured maximum bin number found.\n",
      "[LightGBM] [Warning] For categorical features, max_bin and max_bin_by_feature may be ignored with a large number of categories.\n",
      "[LightGBM] [Info] Number of positive: 14827, number of negative: 68426\n",
      "[LightGBM] [Info] Auto-choosing row-wise multi-threading, the overhead of testing was 0.001787 seconds.\n",
      "You can set `force_row_wise=true` to remove the overhead.\n",
      "And if memory is not enough, you can set `force_col_wise=true`.\n",
      "[LightGBM] [Info] Total Bins 2909\n",
      "[LightGBM] [Info] Number of data points in the train set: 83253, number of used features: 17\n",
      "[LightGBM] [Info] [binary:BoostFromScore]: pavg=0.178096 -> initscore=-1.529303\n",
      "[LightGBM] [Info] Start training from score -1.529303\n",
      "✅ LightGBM training complete.\n"
     ]
    }
   ],
   "source": [
    "# Initialize the LightGBM classifier\n",
    "lgbm = lgb.LGBMClassifier(random_state=42)\n",
    "\n",
    "# Train the model\n",
    "print(\"Training LightGBM model...\")\n",
    "lgbm.fit(X_train, y_train, categorical_feature=categorical_features)\n",
    "\n",
    "# Make predictions\n",
    "lgbm_preds = lgbm.predict(X_test)\n",
    "lgbm_preds_proba = lgbm.predict_proba(X_test)[:, 1]\n",
    "\n",
    "print(\"✅ LightGBM training complete.\")"
   ]
  },
  {
   "cell_type": "markdown",
   "id": "35b1f405-6a75-49d8-a6cd-8201f731229c",
   "metadata": {},
   "source": [
    "LightGBM Model Evaluation\n",
    "Let's see how well it did. We'll check the accuracy, AUC score (which is great for imbalanced datasets), and a full classification report. A confusion matrix will also help us visualize the true vs. predicted labels."
   ]
  },
  {
   "cell_type": "code",
   "execution_count": 4,
   "id": "6d36be75-ac9a-428f-aa5b-ca4be97c1fe0",
   "metadata": {},
   "outputs": [
    {
     "name": "stdout",
     "output_type": "stream",
     "text": [
      "--- LightGBM Performance ---\n",
      "Accuracy: 0.9163\n",
      "AUC Score: 0.9498\n",
      "\n",
      "Classification Report:\n",
      "              precision    recall  f1-score   support\n",
      "\n",
      "           0       0.92      0.99      0.95     17107\n",
      "           1       0.91      0.59      0.72      3707\n",
      "\n",
      "    accuracy                           0.92     20814\n",
      "   macro avg       0.91      0.79      0.83     20814\n",
      "weighted avg       0.92      0.92      0.91     20814\n",
      "\n",
      "Confusion Matrix:\n"
     ]
    },
    {
     "data": {
      "image/png": "[encoded data removed]",
      "text/plain": [
       "<Figure size 640x480 with 2 Axes>"
      ]
     },
     "metadata": {},
     "output_type": "display_data"
    }
   ],
   "source": [
    "print(\"--- LightGBM Performance ---\")\n",
    "print(f\"Accuracy: {accuracy_score(y_test, lgbm_preds):.4f}\")\n",
    "print(f\"AUC Score: {roc_auc_score(y_test, lgbm_preds_proba):.4f}\")\n",
    "print(\"\\nClassification Report:\")\n",
    "print(classification_report(y_test, lgbm_preds))\n",
    "\n",
    "print(\"Confusion Matrix:\")\n",
    "cm = confusion_matrix(y_test, lgbm_preds)\n",
    "sns.heatmap(cm, annot=True, fmt='d', cmap='Blues')\n",
    "plt.title('LightGBM Confusion Matrix')\n",
    "plt.ylabel('Actual')\n",
    "plt.xlabel('Predicted')\n",
    "plt.show()"
   ]
  },
  {
   "cell_type": "markdown",
   "id": "72d27ce7-0dcc-4525-8445-139ffd50bd8c",
   "metadata": {},
   "source": [
    "# Step 4: Train CatBoost Model"
   ]
  },
  {
   "cell_type": "markdown",
   "id": "0a4c5ac8-108b-4e0e-9775-fa8d628899fe",
   "metadata": {},
   "source": [
    "Next up is CatBoost. This model is particularly powerful when you have a lot of categorical features, as it has built-in, sophisticated methods for handling them. The process is very similar to the one for LightGBM."
   ]
  },
  {
   "cell_type": "code",
   "execution_count": 8,
   "id": "ce3b5c92-a927-477f-8b5d-d03f4e53eed5",
   "metadata": {},
   "outputs": [
    {
     "name": "stdout",
     "output_type": "stream",
     "text": [
      "Preprocessing for CatBoost: Filling NaN in categorical features...\n",
      "Preprocessing complete.\n"
     ]
    }
   ],
   "source": [
    "# --- Add this preprocessing step ---\n",
    "print(\"Preprocessing for CatBoost: Filling NaN in categorical features...\")\n",
    "for col in categorical_features:\n",
    "    X_train[col] = X_train[col].astype(str).fillna('missing')\n",
    "    X_test[col] = X_test[col].astype(str).fillna('missing')\n",
    "    \n",
    "    # Convert back to category dtype after filling\n",
    "    X_train[col] = X_train[col].astype('category')\n",
    "    X_test[col] = X_test[col].astype('category')\n",
    "    \n",
    "print(\"Preprocessing complete.\")"
   ]
  },
  {
   "cell_type": "code",
   "execution_count": 9,
   "id": "06f27fbc-deac-49ac-ad30-fee40822d917",
   "metadata": {},
   "outputs": [
    {
     "name": "stdout",
     "output_type": "stream",
     "text": [
      "Training CatBoost model...\n",
      "✅ CatBoost training complete.\n"
     ]
    }
   ],
   "source": [
    "# --- Your original CatBoost code will now work ---\n",
    "# Initialize the CatBoost classifier\n",
    "cat = cb.CatBoostClassifier(random_state=42, verbose=0, cat_features=categorical_features)\n",
    "\n",
    "# Train the model\n",
    "print(\"Training CatBoost model...\")\n",
    "cat.fit(X_train, y_train)\n",
    "\n",
    "# Make predictions\n",
    "cat_preds = cat.predict(X_test)\n",
    "cat_preds_proba = cat.predict_proba(X_test)[:, 1]\n",
    "\n",
    "print(\"✅ CatBoost training complete.\")"
   ]
  },
  {
   "cell_type": "markdown",
   "id": "16450d2a-e419-45c2-a8c8-745c009e5e05",
   "metadata": {},
   "source": [
    "CatBoost Model Evaluation\n",
    "Now we'll evaluate the CatBoost model using the same metrics."
   ]
  },
  {
   "cell_type": "code",
   "execution_count": 10,
   "id": "4886aa33-9b4f-4ed8-b8fc-83107306af2e",
   "metadata": {},
   "outputs": [
    {
     "name": "stdout",
     "output_type": "stream",
     "text": [
      "--- CatBoost Performance ---\n",
      "Accuracy: 0.9182\n",
      "AUC Score: 0.9528\n",
      "\n",
      "Classification Report:\n",
      "              precision    recall  f1-score   support\n",
      "\n",
      "           0       0.92      0.99      0.95     17107\n",
      "           1       0.92      0.59      0.72      3707\n",
      "\n",
      "    accuracy                           0.92     20814\n",
      "   macro avg       0.92      0.79      0.84     20814\n",
      "weighted avg       0.92      0.92      0.91     20814\n",
      "\n",
      "Confusion Matrix:\n"
     ]
    },
    {
     "data": {
      "image/png": "[encoded data removed]",
      "text/plain": [
       "<Figure size 640x480 with 2 Axes>"
      ]
     },
     "metadata": {},
     "output_type": "display_data"
    }
   ],
   "source": [
    "print(\"--- CatBoost Performance ---\")\n",
    "print(f\"Accuracy: {accuracy_score(y_test, cat_preds):.4f}\")\n",
    "print(f\"AUC Score: {roc_auc_score(y_test, cat_preds_proba):.4f}\")\n",
    "print(\"\\nClassification Report:\")\n",
    "print(classification_report(y_test, cat_preds))\n",
    "\n",
    "print(\"Confusion Matrix:\")\n",
    "cm = confusion_matrix(y_test, cat_preds)\n",
    "sns.heatmap(cm, annot=True, fmt='d', cmap='Greens')\n",
    "plt.title('CatBoost Confusion Matrix')\n",
    "plt.ylabel('Actual')\n",
    "plt.xlabel('Predicted')\n",
    "plt.show()"
   ]
  },
  {
   "cell_type": "markdown",
   "id": "6afa3067-9308-41ae-b33d-dcf08de554c9",
   "metadata": {},
   "source": [
    "# Step 5: Model Comparison & Feature Importance"
   ]
  },
  {
   "cell_type": "markdown",
   "id": "c2056015-a68a-469e-b8aa-aa80db9145b0",
   "metadata": {},
   "source": [
    "Finally, let's compare the two models side-by-side using their AUC scores and look at which features the better-performing model (CatBoost) found most important. This can give us valuable insights into the key drivers of hospital readmission."
   ]
  },
  {
   "cell_type": "code",
   "execution_count": 13,
   "id": "4743e1ca-734f-4860-a645-8e9ad59d04fc",
   "metadata": {},
   "outputs": [
    {
     "name": "stdout",
     "output_type": "stream",
     "text": [
      "--- Model Comparison ---\n",
      "LightGBM AUC: 0.9498\n",
      "CatBoost AUC: 0.9528\n",
      "\n",
      "Features by Importance (from CatBoost):\n"
     ]
    },
    {
     "data": {
      "text/html": [
       "<div>\n",
       "<style scoped>\n",
       "    .dataframe tbody tr th:only-of-type {\n",
       "        vertical-align: middle;\n",
       "    }\n",
       "\n",
       "    .dataframe tbody tr th {\n",
       "        vertical-align: top;\n",
       "    }\n",
       "\n",
       "    .dataframe thead th {\n",
       "        text-align: right;\n",
       "    }\n",
       "</style>\n",
       "<table border=\"1\" class=\"dataframe\">\n",
       "  <thead>\n",
       "    <tr style=\"text-align: right;\">\n",
       "      <th></th>\n",
       "      <th>feature</th>\n",
       "      <th>importance</th>\n",
       "    </tr>\n",
       "  </thead>\n",
       "  <tbody>\n",
       "    <tr>\n",
       "      <th>10</th>\n",
       "      <td>primary_diagnosis_code</td>\n",
       "      <td>25.395558</td>\n",
       "    </tr>\n",
       "    <tr>\n",
       "      <th>15</th>\n",
       "      <td>num_procedures</td>\n",
       "      <td>18.684474</td>\n",
       "    </tr>\n",
       "    <tr>\n",
       "      <th>5</th>\n",
       "      <td>admission_reason</td>\n",
       "      <td>15.140925</td>\n",
       "    </tr>\n",
       "    <tr>\n",
       "      <th>7</th>\n",
       "      <td>total_claim_cost</td>\n",
       "      <td>6.266519</td>\n",
       "    </tr>\n",
       "    <tr>\n",
       "      <th>11</th>\n",
       "      <td>provider_id</td>\n",
       "      <td>5.705067</td>\n",
       "    </tr>\n",
       "    <tr>\n",
       "      <th>1</th>\n",
       "      <td>age_at_admission</td>\n",
       "      <td>5.387365</td>\n",
       "    </tr>\n",
       "    <tr>\n",
       "      <th>13</th>\n",
       "      <td>prior_admissions_last_year</td>\n",
       "      <td>4.027615</td>\n",
       "    </tr>\n",
       "    <tr>\n",
       "      <th>14</th>\n",
       "      <td>num_diagnoses</td>\n",
       "      <td>3.675956</td>\n",
       "    </tr>\n",
       "    <tr>\n",
       "      <th>8</th>\n",
       "      <td>income</td>\n",
       "      <td>3.117251</td>\n",
       "    </tr>\n",
       "    <tr>\n",
       "      <th>12</th>\n",
       "      <td>payer_dx_interaction</td>\n",
       "      <td>2.842714</td>\n",
       "    </tr>\n",
       "    <tr>\n",
       "      <th>0</th>\n",
       "      <td>length_of_stay</td>\n",
       "      <td>2.344539</td>\n",
       "    </tr>\n",
       "    <tr>\n",
       "      <th>4</th>\n",
       "      <td>marital_status</td>\n",
       "      <td>1.827996</td>\n",
       "    </tr>\n",
       "    <tr>\n",
       "      <th>6</th>\n",
       "      <td>payer</td>\n",
       "      <td>1.711892</td>\n",
       "    </tr>\n",
       "    <tr>\n",
       "      <th>9</th>\n",
       "      <td>admission_day_of_week</td>\n",
       "      <td>1.516680</td>\n",
       "    </tr>\n",
       "    <tr>\n",
       "      <th>3</th>\n",
       "      <td>race</td>\n",
       "      <td>1.368134</td>\n",
       "    </tr>\n",
       "    <tr>\n",
       "      <th>16</th>\n",
       "      <td>num_medications</td>\n",
       "      <td>0.636671</td>\n",
       "    </tr>\n",
       "    <tr>\n",
       "      <th>2</th>\n",
       "      <td>gender</td>\n",
       "      <td>0.350642</td>\n",
       "    </tr>\n",
       "  </tbody>\n",
       "</table>\n",
       "</div>"
      ],
      "text/plain": [
       "                       feature  importance\n",
       "10      primary_diagnosis_code   25.395558\n",
       "15              num_procedures   18.684474\n",
       "5             admission_reason   15.140925\n",
       "7             total_claim_cost    6.266519\n",
       "11                 provider_id    5.705067\n",
       "1             age_at_admission    5.387365\n",
       "13  prior_admissions_last_year    4.027615\n",
       "14               num_diagnoses    3.675956\n",
       "8                       income    3.117251\n",
       "12        payer_dx_interaction    2.842714\n",
       "0               length_of_stay    2.344539\n",
       "4               marital_status    1.827996\n",
       "6                        payer    1.711892\n",
       "9        admission_day_of_week    1.516680\n",
       "3                         race    1.368134\n",
       "16             num_medications    0.636671\n",
       "2                       gender    0.350642"
      ]
     },
     "metadata": {},
     "output_type": "display_data"
    }
   ],
   "source": [
    "print(\"--- Model Comparison ---\")\n",
    "print(f\"LightGBM AUC: {roc_auc_score(y_test, lgbm_preds_proba):.4f}\")\n",
    "print(f\"CatBoost AUC: {roc_auc_score(y_test, cat_preds_proba):.4f}\")\n",
    "\n",
    "# Get feature importances from the better model (or both)\n",
    "# Let's assume CatBoost performed slightly better and use it for importance\n",
    "feature_importance_df = pd.DataFrame({\n",
    "    'feature': X.columns,\n",
    "    'importance': cat.get_feature_importance()\n",
    "}).sort_values('importance', ascending=False)\n",
    "\n",
    "print(\"\\nFeatures by Importance (from CatBoost):\")\n",
    "display(feature_importance_df)"
   ]
  },
  {
   "cell_type": "markdown",
   "id": "321036a5-fc41-4d6d-a692-94990853dff2",
   "metadata": {},
   "source": [
    "# Improving Recall"
   ]
  },
  {
   "cell_type": "markdown",
   "id": "72af0227-b43e-407b-9cac-2f0884d2c172",
   "metadata": {},
   "source": [
    "Adjust the Decision Threshold (Easiest & Fastest)"
   ]
  },
  {
   "cell_type": "code",
   "execution_count": 20,
   "id": "0b1ce955-e687-4fc0-8ef7-341b55680634",
   "metadata": {},
   "outputs": [
    {
     "data": {
      "image/png": "[encoded data removed]",
      "text/plain": [
       "<Figure size 640x480 with 1 Axes>"
      ]
     },
     "metadata": {},
     "output_type": "display_data"
    },
    {
     "name": "stdout",
     "output_type": "stream",
     "text": [
      "--- Results with new threshold of 0.35 ---\n",
      "              precision    recall  f1-score   support\n",
      "\n",
      "           0       0.98      0.84      0.91     17107\n",
      "           1       0.56      0.92      0.70      3707\n",
      "\n",
      "    accuracy                           0.86     20814\n",
      "   macro avg       0.77      0.88      0.80     20814\n",
      "weighted avg       0.91      0.86      0.87     20814\n",
      "\n"
     ]
    }
   ],
   "source": [
    "import matplotlib.pyplot as plt\n",
    "from sklearn.metrics import precision_recall_curve, f1_score\n",
    "\n",
    "# Get prediction probabilities for the positive class\n",
    "y_probs = cat.predict_proba(X_test)[:, 1]\n",
    "\n",
    "# Calculate precision, recall, and thresholds\n",
    "precision, recall, thresholds = precision_recall_curve(y_test, y_probs)\n",
    "\n",
    "# Plot the curve\n",
    "plt.plot(thresholds, precision[:-1], 'b--', label='Precision')\n",
    "plt.plot(thresholds, recall[:-1], 'g-', label='Recall')\n",
    "plt.xlabel('Threshold')\n",
    "plt.legend(loc='center left')\n",
    "plt.title('Precision-Recall Curve')\n",
    "plt.show()\n",
    "\n",
    "# Example: Set a new threshold and see the result\n",
    "new_threshold = 0.25\n",
    "new_preds = (y_probs >= new_threshold).astype(int)\n",
    "\n",
    "print(\"--- Results with new threshold of 0.35 ---\")\n",
    "print(classification_report(y_test, new_preds))"
   ]
  },
  {
   "cell_type": "markdown",
   "id": "792dd1aa-df94-48cb-8b41-1b84090476cf",
   "metadata": {},
   "source": [
    "Attempt to resolve class imbalance "
   ]
  },
  {
   "cell_type": "code",
   "execution_count": 16,
   "id": "46029826-e0b0-48c4-81c5-7ef658818b51",
   "metadata": {},
   "outputs": [
    {
     "name": "stdout",
     "output_type": "stream",
     "text": [
      "Calculated scale_pos_weight: 4.61\n",
      "Training weighted CatBoost model...\n",
      "              precision    recall  f1-score   support\n",
      "\n",
      "           0       0.98      0.83      0.90     17107\n",
      "           1       0.55      0.94      0.69      3707\n",
      "\n",
      "    accuracy                           0.85     20814\n",
      "   macro avg       0.77      0.89      0.80     20814\n",
      "weighted avg       0.91      0.85      0.86     20814\n",
      "\n"
     ]
    }
   ],
   "source": [
    "from sklearn.utils.class_weight import compute_class_weight\n",
    "\n",
    "# Calculate the weight\n",
    "# count of not readmitted / count of readmitted\n",
    "scale_pos_weight = (y_train == 0).sum() / (y_train == 1).sum()\n",
    "\n",
    "print(f\"Calculated scale_pos_weight: {scale_pos_weight:.2f}\")\n",
    "\n",
    "# Re-initialize and retrain CatBoost with the new parameter\n",
    "cat_weighted = cb.CatBoostClassifier(\n",
    "    random_state=42,\n",
    "    verbose=0,\n",
    "    cat_features=categorical_features,\n",
    "    scale_pos_weight=scale_pos_weight  # Add the weight here\n",
    ")\n",
    "\n",
    "# Train the model\n",
    "print(\"Training weighted CatBoost model...\")\n",
    "cat_weighted.fit(X_train, y_train)\n",
    "\n",
    "# Evaluate the new model\n",
    "weighted_preds = cat_weighted.predict(X_test)\n",
    "print(classification_report(y_test, weighted_preds))"
   ]
  },
  {
   "cell_type": "code",
   "execution_count": 17,
   "id": "8bed4c89-25ce-4001-b98c-8703c8bc8bc0",
   "metadata": {},
   "outputs": [
    {
     "data": {
      "image/png": "[encoded data removed]",
      "text/plain": [
       "<Figure size 640x480 with 1 Axes>"
      ]
     },
     "metadata": {},
     "output_type": "display_data"
    }
   ],
   "source": [
    "# Use your trained weighted model: cat_weighted\n",
    "y_probs_weighted = cat_weighted.predict_proba(X_test)[:, 1]\n",
    "\n",
    "# Calculate precision, recall, and thresholds\n",
    "precision, recall, thresholds = precision_recall_curve(y_test, y_probs_weighted)\n",
    "\n",
    "# Plot the curve to find a good balance\n",
    "plt.plot(thresholds, precision[:-1], 'b--', label='Precision')\n",
    "plt.plot(thresholds, recall[:-1], 'g-', label='Recall')\n",
    "plt.xlabel('Threshold')\n",
    "plt.title('Precision-Recall Curve for Weighted Model')\n",
    "plt.legend()\n",
    "plt.show()"
   ]
  },
  {
   "cell_type": "code",
   "execution_count": 21,
   "id": "f09c0a89-a93b-4eea-9404-8109fe9d9423",
   "metadata": {},
   "outputs": [
    {
     "name": "stdout",
     "output_type": "stream",
     "text": [
      "--- Final Results with Threshold = 0.7 ---\n",
      "              precision    recall  f1-score   support\n",
      "\n",
      "           0       0.94      0.94      0.94     17107\n",
      "           1       0.71      0.72      0.71      3707\n",
      "\n",
      "    accuracy                           0.90     20814\n",
      "   macro avg       0.82      0.83      0.83     20814\n",
      "weighted avg       0.90      0.90      0.90     20814\n",
      "\n"
     ]
    }
   ],
   "source": [
    "# CHOOSE YOUR THRESHOLD BASED ON THE PLOT\n",
    "final_threshold = 0.7\n",
    "\n",
    "# Apply the threshold to the probabilities from your weighted model\n",
    "final_predictions = (y_probs_weighted >= final_threshold).astype(int)\n",
    "\n",
    "# Print the final, tuned classification report\n",
    "print(f\"--- Final Results with Threshold = {final_threshold} ---\")\n",
    "print(classification_report(y_test, final_predictions))"
   ]
  },
  {
   "cell_type": "code",
   "execution_count": null,
   "id": "6e0f74ff-1d9e-440e-b357-ce0f9dc3e01c",
   "metadata": {},
   "outputs": [],
   "source": []
  }
 ],
 "metadata": {
  "kernelspec": {
   "display_name": "Python 3 (ipykernel)",
   "language": "python",
   "name": "python3"
  },
  "language_info": {
   "codemirror_mode": {
    "name": "ipython",
    "version": 3
   },
   "file_extension": ".py",
   "mimetype": "text/x-python",
   "name": "python",
   "nbconvert_exporter": "python",
   "pygments_lexer": "ipython3",
   "version": "3.10.18"
  }
 },
 "nbformat": 4,
 "nbformat_minor": 5
}
