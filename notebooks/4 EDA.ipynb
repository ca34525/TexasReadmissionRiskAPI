{
 "cells": [
  {
   "cell_type": "markdown",
   "id": "4f1d85b4-3d40-4fd5-8f5b-b64f8720b69a",
   "metadata": {},
   "source": [
    "# Notebook Setup and Data Loading"
   ]
  },
  {
   "cell_type": "markdown",
   "id": "cf4d4458-60b9-4efd-8292-6da42ab38154",
   "metadata": {},
   "source": [
    "Here, we'll import the necessary libraries and set up our file paths and plotting styles."
   ]
  },
  {
   "cell_type": "code",
   "execution_count": 1,
   "id": "1dd1909a-522a-46cc-a59d-8911abaccbf3",
   "metadata": {},
   "outputs": [],
   "source": [
    "import pandas as pd\n",
    "import numpy as np\n",
    "import matplotlib.pyplot as plt\n",
    "import seaborn as sns\n",
    "from pathlib import Path\n",
    "\n",
    "# --- Configuration ---\n",
    "OUTPUT_DIR = Path(\"../output\")\n",
    "DATA_FILE = OUTPUT_DIR / \"readmissions_dataset.parquet\"\n",
    "\n",
    "# --- Plotting Style ---\n",
    "sns.set_style(\"whitegrid\")\n",
    "plt.rcParams['figure.figsize'] = (10, 6)"
   ]
  },
  {
   "cell_type": "markdown",
   "id": "42e068c5-3146-4985-ac3d-b3f6c8e29b9d",
   "metadata": {},
   "source": [
    "Load the Parquet file into a pandas DataFrame and display the first few rows to confirm it loaded correctly."
   ]
  },
  {
   "cell_type": "code",
   "execution_count": 2,
   "id": "e6d23db7-d6c5-42df-a2d6-28a6c10a1d0d",
   "metadata": {},
   "outputs": [
    {
     "name": "stdout",
     "output_type": "stream",
     "text": [
      "Dataset loaded with 104,068 rows and 14 columns.\n",
      "\n",
      "First 5 rows:\n"
     ]
    },
    {
     "data": {
      "text/html": [
       "<div>\n",
       "<style scoped>\n",
       "    .dataframe tbody tr th:only-of-type {\n",
       "        vertical-align: middle;\n",
       "    }\n",
       "\n",
       "    .dataframe tbody tr th {\n",
       "        vertical-align: top;\n",
       "    }\n",
       "\n",
       "    .dataframe thead th {\n",
       "        text-align: right;\n",
       "    }\n",
       "</style>\n",
       "<table border=\"1\" class=\"dataframe\">\n",
       "  <thead>\n",
       "    <tr style=\"text-align: right;\">\n",
       "      <th></th>\n",
       "      <th>encounter_id</th>\n",
       "      <th>patient_id</th>\n",
       "      <th>readmitted_within_30_days</th>\n",
       "      <th>length_of_stay</th>\n",
       "      <th>age_at_admission</th>\n",
       "      <th>gender</th>\n",
       "      <th>race</th>\n",
       "      <th>marital_status</th>\n",
       "      <th>admission_reason</th>\n",
       "      <th>admission_reason_detail</th>\n",
       "      <th>prior_admissions_last_year</th>\n",
       "      <th>num_diagnoses</th>\n",
       "      <th>num_procedures</th>\n",
       "      <th>num_medications</th>\n",
       "    </tr>\n",
       "  </thead>\n",
       "  <tbody>\n",
       "    <tr>\n",
       "      <th>0</th>\n",
       "      <td>138fa8d2-c18d-18f6-2d10-94511e19edbc</td>\n",
       "      <td>79f75722-a60e-c575-a7af-4da0ae591a52</td>\n",
       "      <td>0</td>\n",
       "      <td>11</td>\n",
       "      <td>2</td>\n",
       "      <td>male</td>\n",
       "      <td>None</td>\n",
       "      <td>S</td>\n",
       "      <td>Hospital admission (procedure)</td>\n",
       "      <td>Patient transfer to skilled nursing facility (...</td>\n",
       "      <td>0</td>\n",
       "      <td>0.0</td>\n",
       "      <td>20.0</td>\n",
       "      <td>0.0</td>\n",
       "    </tr>\n",
       "    <tr>\n",
       "      <th>1</th>\n",
       "      <td>edbab4b3-26b2-fcd7-4401-e3622cbfee4d</td>\n",
       "      <td>f65c8b52-a710-5ec4-0c26-44b15d1174a5</td>\n",
       "      <td>0</td>\n",
       "      <td>2</td>\n",
       "      <td>38</td>\n",
       "      <td>male</td>\n",
       "      <td>None</td>\n",
       "      <td>W</td>\n",
       "      <td>Drug rehabilitation and detoxification (regime...</td>\n",
       "      <td>Dependent drug abuse (disorder)</td>\n",
       "      <td>0</td>\n",
       "      <td>0.0</td>\n",
       "      <td>0.0</td>\n",
       "      <td>0.0</td>\n",
       "    </tr>\n",
       "    <tr>\n",
       "      <th>2</th>\n",
       "      <td>46939e78-cb1b-df7f-9202-37bef958c60c</td>\n",
       "      <td>f65c8b52-a710-5ec4-0c26-44b15d1174a5</td>\n",
       "      <td>0</td>\n",
       "      <td>4</td>\n",
       "      <td>40</td>\n",
       "      <td>male</td>\n",
       "      <td>None</td>\n",
       "      <td>W</td>\n",
       "      <td>Drug rehabilitation and detoxification (regime...</td>\n",
       "      <td>Dependent drug abuse (disorder)</td>\n",
       "      <td>0</td>\n",
       "      <td>0.0</td>\n",
       "      <td>0.0</td>\n",
       "      <td>0.0</td>\n",
       "    </tr>\n",
       "    <tr>\n",
       "      <th>3</th>\n",
       "      <td>dc23e269-a1c9-a52a-9558-28cd57391e6f</td>\n",
       "      <td>f65c8b52-a710-5ec4-0c26-44b15d1174a5</td>\n",
       "      <td>0</td>\n",
       "      <td>3</td>\n",
       "      <td>41</td>\n",
       "      <td>male</td>\n",
       "      <td>None</td>\n",
       "      <td>W</td>\n",
       "      <td>Drug rehabilitation and detoxification (regime...</td>\n",
       "      <td>Dependent drug abuse (disorder)</td>\n",
       "      <td>0</td>\n",
       "      <td>0.0</td>\n",
       "      <td>0.0</td>\n",
       "      <td>0.0</td>\n",
       "    </tr>\n",
       "    <tr>\n",
       "      <th>4</th>\n",
       "      <td>1ab103bf-9d29-cb4f-19c6-d7f2c11391bf</td>\n",
       "      <td>f65c8b52-a710-5ec4-0c26-44b15d1174a5</td>\n",
       "      <td>0</td>\n",
       "      <td>4</td>\n",
       "      <td>47</td>\n",
       "      <td>male</td>\n",
       "      <td>None</td>\n",
       "      <td>W</td>\n",
       "      <td>Drug rehabilitation and detoxification (regime...</td>\n",
       "      <td>Dependent drug abuse (disorder)</td>\n",
       "      <td>0</td>\n",
       "      <td>0.0</td>\n",
       "      <td>0.0</td>\n",
       "      <td>0.0</td>\n",
       "    </tr>\n",
       "  </tbody>\n",
       "</table>\n",
       "</div>"
      ],
      "text/plain": [
       "                           encounter_id                            patient_id  \\\n",
       "0  138fa8d2-c18d-18f6-2d10-94511e19edbc  79f75722-a60e-c575-a7af-4da0ae591a52   \n",
       "1  edbab4b3-26b2-fcd7-4401-e3622cbfee4d  f65c8b52-a710-5ec4-0c26-44b15d1174a5   \n",
       "2  46939e78-cb1b-df7f-9202-37bef958c60c  f65c8b52-a710-5ec4-0c26-44b15d1174a5   \n",
       "3  dc23e269-a1c9-a52a-9558-28cd57391e6f  f65c8b52-a710-5ec4-0c26-44b15d1174a5   \n",
       "4  1ab103bf-9d29-cb4f-19c6-d7f2c11391bf  f65c8b52-a710-5ec4-0c26-44b15d1174a5   \n",
       "\n",
       "   readmitted_within_30_days  length_of_stay  age_at_admission gender  race  \\\n",
       "0                          0              11                 2   male  None   \n",
       "1                          0               2                38   male  None   \n",
       "2                          0               4                40   male  None   \n",
       "3                          0               3                41   male  None   \n",
       "4                          0               4                47   male  None   \n",
       "\n",
       "  marital_status                                   admission_reason  \\\n",
       "0              S                     Hospital admission (procedure)   \n",
       "1              W  Drug rehabilitation and detoxification (regime...   \n",
       "2              W  Drug rehabilitation and detoxification (regime...   \n",
       "3              W  Drug rehabilitation and detoxification (regime...   \n",
       "4              W  Drug rehabilitation and detoxification (regime...   \n",
       "\n",
       "                             admission_reason_detail  \\\n",
       "0  Patient transfer to skilled nursing facility (...   \n",
       "1                    Dependent drug abuse (disorder)   \n",
       "2                    Dependent drug abuse (disorder)   \n",
       "3                    Dependent drug abuse (disorder)   \n",
       "4                    Dependent drug abuse (disorder)   \n",
       "\n",
       "   prior_admissions_last_year  num_diagnoses  num_procedures  num_medications  \n",
       "0                           0            0.0            20.0              0.0  \n",
       "1                           0            0.0             0.0              0.0  \n",
       "2                           0            0.0             0.0              0.0  \n",
       "3                           0            0.0             0.0              0.0  \n",
       "4                           0            0.0             0.0              0.0  "
      ]
     },
     "metadata": {},
     "output_type": "display_data"
    }
   ],
   "source": [
    "df = pd.read_parquet(DATA_FILE)\n",
    "\n",
    "print(f\"Dataset loaded with {df.shape[0]:,} rows and {df.shape[1]} columns.\")\n",
    "print(\"\\nFirst 5 rows:\")\n",
    "display(df.head())"
   ]
  },
  {
   "cell_type": "markdown",
   "id": "1da7b1dd-d557-464c-be48-75ddb2f86ac0",
   "metadata": {},
   "source": [
    "Use .info() to get a concise summary of the DataFrame, including data types and non-null counts."
   ]
  },
  {
   "cell_type": "code",
   "execution_count": 3,
   "id": "8d663c3b-d564-4a84-b85a-7767a2058241",
   "metadata": {},
   "outputs": [
    {
     "name": "stdout",
     "output_type": "stream",
     "text": [
      "\n",
      "Data Types and Null Values:\n",
      "<class 'pandas.core.frame.DataFrame'>\n",
      "RangeIndex: 104068 entries, 0 to 104067\n",
      "Data columns (total 14 columns):\n",
      " #   Column                      Non-Null Count   Dtype  \n",
      "---  ------                      --------------   -----  \n",
      " 0   encounter_id                104068 non-null  object \n",
      " 1   patient_id                  104068 non-null  object \n",
      " 2   readmitted_within_30_days   104068 non-null  int32  \n",
      " 3   length_of_stay              104068 non-null  int64  \n",
      " 4   age_at_admission            104068 non-null  int64  \n",
      " 5   gender                      104068 non-null  object \n",
      " 6   race                        0 non-null       object \n",
      " 7   marital_status              104068 non-null  object \n",
      " 8   admission_reason            104068 non-null  object \n",
      " 9   admission_reason_detail     104063 non-null  object \n",
      " 10  prior_admissions_last_year  104068 non-null  int64  \n",
      " 11  num_diagnoses               104068 non-null  float64\n",
      " 12  num_procedures              104068 non-null  float64\n",
      " 13  num_medications             104068 non-null  float64\n",
      "dtypes: float64(3), int32(1), int64(3), object(7)\n",
      "memory usage: 10.7+ MB\n"
     ]
    }
   ],
   "source": [
    "print(\"\\nData Types and Null Values:\")\n",
    "df.info()"
   ]
  },
  {
   "cell_type": "code",
   "execution_count": null,
   "id": "78ca206e-dc45-41ed-8676-a88d785c0976",
   "metadata": {},
   "outputs": [],
   "source": []
  }
 ],
 "metadata": {
  "kernelspec": {
   "display_name": "Python 3 (ipykernel)",
   "language": "python",
   "name": "python3"
  },
  "language_info": {
   "codemirror_mode": {
    "name": "ipython",
    "version": 3
   },
   "file_extension": ".py",
   "mimetype": "text/x-python",
   "name": "python",
   "nbconvert_exporter": "python",
   "pygments_lexer": "ipython3",
   "version": "3.10.18"
  }
 },
 "nbformat": 4,
 "nbformat_minor": 5
}
