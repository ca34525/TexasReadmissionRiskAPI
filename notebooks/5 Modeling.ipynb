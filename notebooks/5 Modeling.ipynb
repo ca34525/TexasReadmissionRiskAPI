{
 "cells": [
  {
   "cell_type": "markdown",
   "id": "c052d56d-f331-4a6d-b425-bf9717b5e0cb",
   "metadata": {},
   "source": [
    "# Imports and Data Loading\n",
    "This cell sets up the environment by importing all the required libraries for machine learning, evaluation, and plotting. It then loads the final analytical dataset that was created during the feature engineering phase."
   ]
  },
  {
   "cell_type": "code",
   "execution_count": 12,
   "id": "b55a919d-9a2d-409e-bcd1-e7bed896f69d",
   "metadata": {},
   "outputs": [
    {
     "name": "stdout",
     "output_type": "stream",
     "text": [
      "Loading dataset from ../output/readmissions_dataset.parquet...\n",
      "Dataset loaded successfully.\n"
     ]
    },
    {
     "data": {
      "text/html": [
       "<div>\n",
       "<style scoped>\n",
       "    .dataframe tbody tr th:only-of-type {\n",
       "        vertical-align: middle;\n",
       "    }\n",
       "\n",
       "    .dataframe tbody tr th {\n",
       "        vertical-align: top;\n",
       "    }\n",
       "\n",
       "    .dataframe thead th {\n",
       "        text-align: right;\n",
       "    }\n",
       "</style>\n",
       "<table border=\"1\" class=\"dataframe\">\n",
       "  <thead>\n",
       "    <tr style=\"text-align: right;\">\n",
       "      <th></th>\n",
       "      <th>encounter_id</th>\n",
       "      <th>patient_id</th>\n",
       "      <th>readmitted_within_30_days</th>\n",
       "      <th>length_of_stay</th>\n",
       "      <th>age_at_admission</th>\n",
       "      <th>gender</th>\n",
       "      <th>race</th>\n",
       "      <th>marital_status</th>\n",
       "      <th>admission_reason</th>\n",
       "      <th>admission_reason_detail</th>\n",
       "      <th>...</th>\n",
       "      <th>total_claim_cost</th>\n",
       "      <th>income</th>\n",
       "      <th>admission_day_of_week</th>\n",
       "      <th>primary_diagnosis_code</th>\n",
       "      <th>provider_id</th>\n",
       "      <th>payer_dx_interaction</th>\n",
       "      <th>prior_admissions_last_year</th>\n",
       "      <th>num_diagnoses</th>\n",
       "      <th>num_procedures</th>\n",
       "      <th>num_medications</th>\n",
       "    </tr>\n",
       "  </thead>\n",
       "  <tbody>\n",
       "    <tr>\n",
       "      <th>0</th>\n",
       "      <td>ef5d7e9f-956d-2b7a-a4a6-c632f3b40cf9</td>\n",
       "      <td>1f167660-c201-84b9-f69a-16d19d622bfa</td>\n",
       "      <td>1</td>\n",
       "      <td>7</td>\n",
       "      <td>60</td>\n",
       "      <td>male</td>\n",
       "      <td>White</td>\n",
       "      <td>M</td>\n",
       "      <td>Patient transfer to intensive care unit (proce...</td>\n",
       "      <td>History of coronary artery bypass grafting (si...</td>\n",
       "      <td>...</td>\n",
       "      <td>67106.281250</td>\n",
       "      <td>99505</td>\n",
       "      <td>Wednesday</td>\n",
       "      <td>399261000</td>\n",
       "      <td>us-npi|9999868992</td>\n",
       "      <td>Blue Cross Blue Shield_399261000</td>\n",
       "      <td>0</td>\n",
       "      <td>0.0</td>\n",
       "      <td>24.0</td>\n",
       "      <td>0.0</td>\n",
       "    </tr>\n",
       "    <tr>\n",
       "      <th>1</th>\n",
       "      <td>3c5e1be2-468a-e4d8-11f2-e767d59482d5</td>\n",
       "      <td>1f167660-c201-84b9-f69a-16d19d622bfa</td>\n",
       "      <td>0</td>\n",
       "      <td>1</td>\n",
       "      <td>60</td>\n",
       "      <td>male</td>\n",
       "      <td>White</td>\n",
       "      <td>M</td>\n",
       "      <td>Admission to ward (procedure)</td>\n",
       "      <td>History of coronary artery bypass grafting (si...</td>\n",
       "      <td>...</td>\n",
       "      <td>2176.229980</td>\n",
       "      <td>99505</td>\n",
       "      <td>Wednesday</td>\n",
       "      <td>399261000</td>\n",
       "      <td>us-npi|9999868992</td>\n",
       "      <td>Blue Cross Blue Shield_399261000</td>\n",
       "      <td>1</td>\n",
       "      <td>0.0</td>\n",
       "      <td>4.0</td>\n",
       "      <td>0.0</td>\n",
       "    </tr>\n",
       "    <tr>\n",
       "      <th>2</th>\n",
       "      <td>6f06a6aa-a1da-bcd6-a43f-ddbbd638947c</td>\n",
       "      <td>68bfa4c8-e3ac-6dda-a02a-a225c0b2c9a5</td>\n",
       "      <td>0</td>\n",
       "      <td>1</td>\n",
       "      <td>35</td>\n",
       "      <td>female</td>\n",
       "      <td>White</td>\n",
       "      <td>M</td>\n",
       "      <td>Admission to surgical department (procedure)</td>\n",
       "      <td>Sterilization requested (situation)</td>\n",
       "      <td>...</td>\n",
       "      <td>4495.109863</td>\n",
       "      <td>119210</td>\n",
       "      <td>Saturday</td>\n",
       "      <td>183996000</td>\n",
       "      <td>us-npi|9999952390</td>\n",
       "      <td>NO_INSURANCE_183996000</td>\n",
       "      <td>0</td>\n",
       "      <td>1.0</td>\n",
       "      <td>2.0</td>\n",
       "      <td>0.0</td>\n",
       "    </tr>\n",
       "    <tr>\n",
       "      <th>3</th>\n",
       "      <td>e2477992-082b-69ca-3152-6fecf4442626</td>\n",
       "      <td>45ccdf82-db5c-3947-2d97-ee18a8a9c4e3</td>\n",
       "      <td>0</td>\n",
       "      <td>12</td>\n",
       "      <td>53</td>\n",
       "      <td>female</td>\n",
       "      <td>White</td>\n",
       "      <td>W</td>\n",
       "      <td>Hospital admission for isolation (procedure)</td>\n",
       "      <td>Disease caused by severe acute respiratory syn...</td>\n",
       "      <td>...</td>\n",
       "      <td>37806.300781</td>\n",
       "      <td>60503</td>\n",
       "      <td>Saturday</td>\n",
       "      <td>840539006</td>\n",
       "      <td>us-npi|9999943399</td>\n",
       "      <td>Anthem_840539006</td>\n",
       "      <td>0</td>\n",
       "      <td>4.0</td>\n",
       "      <td>27.0</td>\n",
       "      <td>0.0</td>\n",
       "    </tr>\n",
       "    <tr>\n",
       "      <th>4</th>\n",
       "      <td>735f3287-d205-1ec8-9668-fcdac03f306a</td>\n",
       "      <td>a5a065d0-a35b-d8e3-fda6-0e92c0a40926</td>\n",
       "      <td>0</td>\n",
       "      <td>1</td>\n",
       "      <td>63</td>\n",
       "      <td>female</td>\n",
       "      <td>White</td>\n",
       "      <td>M</td>\n",
       "      <td>Admission to intensive care unit (procedure)</td>\n",
       "      <td>Chronic congestive heart failure (disorder)</td>\n",
       "      <td>...</td>\n",
       "      <td>4361.350098</td>\n",
       "      <td>49355</td>\n",
       "      <td>Monday</td>\n",
       "      <td>88805009</td>\n",
       "      <td>us-npi|9999868992</td>\n",
       "      <td>Medicare_88805009</td>\n",
       "      <td>0</td>\n",
       "      <td>0.0</td>\n",
       "      <td>5.0</td>\n",
       "      <td>0.0</td>\n",
       "    </tr>\n",
       "  </tbody>\n",
       "</table>\n",
       "<p>5 rows × 21 columns</p>\n",
       "</div>"
      ],
      "text/plain": [
       "                           encounter_id                            patient_id  \\\n",
       "0  ef5d7e9f-956d-2b7a-a4a6-c632f3b40cf9  1f167660-c201-84b9-f69a-16d19d622bfa   \n",
       "1  3c5e1be2-468a-e4d8-11f2-e767d59482d5  1f167660-c201-84b9-f69a-16d19d622bfa   \n",
       "2  6f06a6aa-a1da-bcd6-a43f-ddbbd638947c  68bfa4c8-e3ac-6dda-a02a-a225c0b2c9a5   \n",
       "3  e2477992-082b-69ca-3152-6fecf4442626  45ccdf82-db5c-3947-2d97-ee18a8a9c4e3   \n",
       "4  735f3287-d205-1ec8-9668-fcdac03f306a  a5a065d0-a35b-d8e3-fda6-0e92c0a40926   \n",
       "\n",
       "   readmitted_within_30_days  length_of_stay  age_at_admission  gender   race  \\\n",
       "0                          1               7                60    male  White   \n",
       "1                          0               1                60    male  White   \n",
       "2                          0               1                35  female  White   \n",
       "3                          0              12                53  female  White   \n",
       "4                          0               1                63  female  White   \n",
       "\n",
       "  marital_status                                   admission_reason  \\\n",
       "0              M  Patient transfer to intensive care unit (proce...   \n",
       "1              M                      Admission to ward (procedure)   \n",
       "2              M       Admission to surgical department (procedure)   \n",
       "3              W       Hospital admission for isolation (procedure)   \n",
       "4              M       Admission to intensive care unit (procedure)   \n",
       "\n",
       "                             admission_reason_detail  ... total_claim_cost  \\\n",
       "0  History of coronary artery bypass grafting (si...  ...     67106.281250   \n",
       "1  History of coronary artery bypass grafting (si...  ...      2176.229980   \n",
       "2                Sterilization requested (situation)  ...      4495.109863   \n",
       "3  Disease caused by severe acute respiratory syn...  ...     37806.300781   \n",
       "4        Chronic congestive heart failure (disorder)  ...      4361.350098   \n",
       "\n",
       "   income  admission_day_of_week primary_diagnosis_code        provider_id  \\\n",
       "0   99505              Wednesday              399261000  us-npi|9999868992   \n",
       "1   99505              Wednesday              399261000  us-npi|9999868992   \n",
       "2  119210               Saturday              183996000  us-npi|9999952390   \n",
       "3   60503               Saturday              840539006  us-npi|9999943399   \n",
       "4   49355                 Monday               88805009  us-npi|9999868992   \n",
       "\n",
       "               payer_dx_interaction prior_admissions_last_year  num_diagnoses  \\\n",
       "0  Blue Cross Blue Shield_399261000                          0            0.0   \n",
       "1  Blue Cross Blue Shield_399261000                          1            0.0   \n",
       "2            NO_INSURANCE_183996000                          0            1.0   \n",
       "3                  Anthem_840539006                          0            4.0   \n",
       "4                 Medicare_88805009                          0            0.0   \n",
       "\n",
       "   num_procedures  num_medications  \n",
       "0            24.0              0.0  \n",
       "1             4.0              0.0  \n",
       "2             2.0              0.0  \n",
       "3            27.0              0.0  \n",
       "4             5.0              0.0  \n",
       "\n",
       "[5 rows x 21 columns]"
      ]
     },
     "execution_count": 12,
     "metadata": {},
     "output_type": "execute_result"
    }
   ],
   "source": [
    "import pandas as pd\n",
    "import lightgbm as lgb\n",
    "import catboost as cb\n",
    "from sklearn.model_selection import train_test_split\n",
    "from sklearn.metrics import accuracy_score, classification_report, roc_auc_score, confusion_matrix\n",
    "from pathlib import Path\n",
    "import seaborn as sns\n",
    "import matplotlib.pyplot as plt\n",
    "\n",
    "# --- Configuration ---\n",
    "DATA_DIR = Path(\"../output\")\n",
    "MODEL_DATA_FILE = DATA_DIR / \"readmissions_dataset.parquet\"\n",
    "\n",
    "# --- Load the Dataset ---\n",
    "print(f\"Loading dataset from {MODEL_DATA_FILE}...\")\n",
    "df = pd.read_parquet(MODEL_DATA_FILE)\n",
    "\n",
    "print(\"Dataset loaded successfully.\")\n",
    "df.head()"
   ]
  },
  {
   "cell_type": "markdown",
   "id": "73fab92c-44bd-4c25-9ece-c4bc01ba271a",
   "metadata": {},
   "source": [
    "# Feature Engineering & Preprocessing\n",
    "Before training, this section prepares the data for the models. It separates the features from the target variable, identifies all the categorical columns, and splits the data into training and testing sets while preserving the original distribution of readmissions."
   ]
  },
  {
   "cell_type": "code",
   "execution_count": 13,
   "id": "076894f2-a571-4048-8191-0eb8d10beaf5",
   "metadata": {},
   "outputs": [
    {
     "name": "stdout",
     "output_type": "stream",
     "text": [
      "Target variable: readmitted_within_30_days\n",
      "Number of features: 17\n",
      "Training set shape: (83254, 17)\n",
      "Test set shape: (20814, 17)\n"
     ]
    }
   ],
   "source": [
    "# Define the target and features\n",
    "TARGET = 'readmitted_within_30_days'\n",
    "\n",
    "# Drop identifiers and high-cardinality text fields that might not be useful directly\n",
    "features_to_drop = ['encounter_id', 'patient_id', 'admission_reason_detail']\n",
    "X = df.drop(columns=[TARGET] + features_to_drop)\n",
    "y = df[TARGET]\n",
    "\n",
    "# Identify categorical features for the models\n",
    "categorical_features = [\n",
    "    'gender', 'race', 'marital_status', 'admission_reason', \n",
    "    'payer', 'admission_day_of_week', 'primary_diagnosis_code', \n",
    "    'provider_id', 'payer_dx_interaction'\n",
    "]\n",
    "\n",
    "# Convert categorical features to the 'category' dtype for efficiency\n",
    "for col in categorical_features:\n",
    "    X[col] = X[col].astype('category')\n",
    "\n",
    "print(f\"Target variable: {TARGET}\")\n",
    "print(f\"Number of features: {len(X.columns)}\")\n",
    "\n",
    "# Split data into training and testing sets\n",
    "X_train, X_test, y_train, y_test = train_test_split(\n",
    "    X, y, test_size=0.2, random_state=42, stratify=y\n",
    ")\n",
    "\n",
    "print(f\"Training set shape: {X_train.shape}\")\n",
    "print(f\"Test set shape: {X_test.shape}\")"
   ]
  },
  {
   "cell_type": "markdown",
   "id": "c754912a-287a-4e4e-80ee-b564d58e0ec7",
   "metadata": {},
   "source": [
    "# Train LightGBM Model\n",
    "Here, we train our first model, LightGBM. This gradient boosting library is known for its speed and efficiency. We fit the model on the training data, telling it which features to treat as categorical, and then use it to make predictions on the unseen test data."
   ]
  },
  {
   "cell_type": "code",
   "execution_count": 14,
   "id": "dd22a19b-9bad-47ae-8bb8-39a2a35a46c7",
   "metadata": {},
   "outputs": [
    {
     "name": "stdout",
     "output_type": "stream",
     "text": [
      "Training LightGBM model...\n",
      "[LightGBM] [Warning] Categorical features with more bins than the configured maximum bin number found.\n",
      "[LightGBM] [Warning] For categorical features, max_bin and max_bin_by_feature may be ignored with a large number of categories.\n",
      "[LightGBM] [Info] Number of positive: 14827, number of negative: 68427\n",
      "[LightGBM] [Info] Auto-choosing row-wise multi-threading, the overhead of testing was 0.001495 seconds.\n",
      "You can set `force_row_wise=true` to remove the overhead.\n",
      "And if memory is not enough, you can set `force_col_wise=true`.\n",
      "[LightGBM] [Info] Total Bins 2911\n",
      "[LightGBM] [Info] Number of data points in the train set: 83254, number of used features: 17\n",
      "[LightGBM] [Info] [binary:BoostFromScore]: pavg=0.178094 -> initscore=-1.529318\n",
      "[LightGBM] [Info] Start training from score -1.529318\n",
      "✅ LightGBM training complete.\n"
     ]
    }
   ],
   "source": [
    "# Initialize the LightGBM classifier\n",
    "lgbm = lgb.LGBMClassifier(random_state=42)\n",
    "\n",
    "# Train the model\n",
    "print(\"Training LightGBM model...\")\n",
    "lgbm.fit(X_train, y_train, categorical_feature=categorical_features)\n",
    "\n",
    "# Make predictions\n",
    "lgbm_preds = lgbm.predict(X_test)\n",
    "lgbm_preds_proba = lgbm.predict_proba(X_test)[:, 1]\n",
    "\n",
    "print(\"✅ LightGBM training complete.\")"
   ]
  },
  {
   "cell_type": "markdown",
   "id": "35b1f405-6a75-49d8-a6cd-8201f731229c",
   "metadata": {},
   "source": [
    "## LightGBM Model Evaluation\n",
    "To understand how well the LightGBM model performed, this cell calculates several key evaluation metrics, including accuracy, AUC, precision, and recall. A confusion matrix is also plotted to provide a clear visual of the model's predictive performance."
   ]
  },
  {
   "cell_type": "code",
   "execution_count": 15,
   "id": "6d36be75-ac9a-428f-aa5b-ca4be97c1fe0",
   "metadata": {},
   "outputs": [
    {
     "name": "stdout",
     "output_type": "stream",
     "text": [
      "--- LightGBM Performance ---\n",
      "Accuracy: 0.9196\n",
      "AUC Score: 0.9538\n",
      "\n",
      "Classification Report:\n",
      "              precision    recall  f1-score   support\n",
      "\n",
      "           0       0.92      0.99      0.95     17107\n",
      "           1       0.91      0.60      0.73      3707\n",
      "\n",
      "    accuracy                           0.92     20814\n",
      "   macro avg       0.92      0.80      0.84     20814\n",
      "weighted avg       0.92      0.92      0.91     20814\n",
      "\n",
      "Confusion Matrix:\n"
     ]
    },
    {
     "data": {
      "image/png": "[encoded data removed]",
      "text/plain": [
       "<Figure size 640x480 with 2 Axes>"
      ]
     },
     "metadata": {},
     "output_type": "display_data"
    }
   ],
   "source": [
    "print(\"--- LightGBM Performance ---\")\n",
    "print(f\"Accuracy: {accuracy_score(y_test, lgbm_preds):.4f}\")\n",
    "print(f\"AUC Score: {roc_auc_score(y_test, lgbm_preds_proba):.4f}\")\n",
    "print(\"\\nClassification Report:\")\n",
    "print(classification_report(y_test, lgbm_preds))\n",
    "\n",
    "print(\"Confusion Matrix:\")\n",
    "cm = confusion_matrix(y_test, lgbm_preds)\n",
    "sns.heatmap(cm, annot=True, fmt='d', cmap='Blues')\n",
    "plt.title('LightGBM Confusion Matrix')\n",
    "plt.ylabel('Actual')\n",
    "plt.xlabel('Predicted')\n",
    "plt.show()"
   ]
  },
  {
   "cell_type": "markdown",
   "id": "72d27ce7-0dcc-4525-8445-139ffd50bd8c",
   "metadata": {},
   "source": [
    "# Train CatBoost Model\n",
    "Now we train our second model, CatBoost, which is specifically designed to excel with categorical data. After a quick preprocessing step to handle missing values, we fit the model on the training data and generate predictions on the test set."
   ]
  },
  {
   "cell_type": "code",
   "execution_count": 16,
   "id": "ce3b5c92-a927-477f-8b5d-d03f4e53eed5",
   "metadata": {},
   "outputs": [
    {
     "name": "stdout",
     "output_type": "stream",
     "text": [
      "Preprocessing for CatBoost: Filling NaN in categorical features...\n",
      "Preprocessing complete.\n"
     ]
    }
   ],
   "source": [
    "# --- Add this preprocessing step ---\n",
    "print(\"Preprocessing for CatBoost: Filling NaN in categorical features...\")\n",
    "for col in categorical_features:\n",
    "    X_train[col] = X_train[col].astype(str).fillna('missing')\n",
    "    X_test[col] = X_test[col].astype(str).fillna('missing')\n",
    "    \n",
    "    # Convert back to category dtype after filling\n",
    "    X_train[col] = X_train[col].astype('category')\n",
    "    X_test[col] = X_test[col].astype('category')\n",
    "    \n",
    "print(\"Preprocessing complete.\")"
   ]
  },
  {
   "cell_type": "code",
   "execution_count": 17,
   "id": "06f27fbc-deac-49ac-ad30-fee40822d917",
   "metadata": {},
   "outputs": [
    {
     "name": "stdout",
     "output_type": "stream",
     "text": [
      "Training CatBoost model...\n",
      "✅ CatBoost training complete.\n"
     ]
    }
   ],
   "source": [
    "# --- Your original CatBoost code will now work ---\n",
    "# Initialize the CatBoost classifier\n",
    "cat = cb.CatBoostClassifier(random_state=42, verbose=0, cat_features=categorical_features)\n",
    "\n",
    "# Train the model\n",
    "print(\"Training CatBoost model...\")\n",
    "cat.fit(X_train, y_train)\n",
    "\n",
    "# Make predictions\n",
    "cat_preds = cat.predict(X_test)\n",
    "cat_preds_proba = cat.predict_proba(X_test)[:, 1]\n",
    "\n",
    "print(\"✅ CatBoost training complete.\")"
   ]
  },
  {
   "cell_type": "markdown",
   "id": "16450d2a-e419-45c2-a8c8-745c009e5e05",
   "metadata": {},
   "source": [
    "## CatBoost Model Evaluation\n",
    "This cell evaluates the CatBoost model using the same metrics as before. We review its accuracy, AUC, precision, and recall, and visualize its performance with a confusion matrix to compare it directly with LightGBM."
   ]
  },
  {
   "cell_type": "code",
   "execution_count": 18,
   "id": "4886aa33-9b4f-4ed8-b8fc-83107306af2e",
   "metadata": {},
   "outputs": [
    {
     "name": "stdout",
     "output_type": "stream",
     "text": [
      "--- CatBoost Performance ---\n",
      "Accuracy: 0.9222\n",
      "AUC Score: 0.9570\n",
      "\n",
      "Classification Report:\n",
      "              precision    recall  f1-score   support\n",
      "\n",
      "           0       0.92      0.99      0.95     17107\n",
      "           1       0.94      0.60      0.73      3707\n",
      "\n",
      "    accuracy                           0.92     20814\n",
      "   macro avg       0.93      0.80      0.84     20814\n",
      "weighted avg       0.92      0.92      0.92     20814\n",
      "\n",
      "Confusion Matrix:\n"
     ]
    },
    {
     "data": {
      "image/png": "[encoded data removed]",
      "text/plain": [
       "<Figure size 640x480 with 2 Axes>"
      ]
     },
     "metadata": {},
     "output_type": "display_data"
    }
   ],
   "source": [
    "print(\"--- CatBoost Performance ---\")\n",
    "print(f\"Accuracy: {accuracy_score(y_test, cat_preds):.4f}\")\n",
    "print(f\"AUC Score: {roc_auc_score(y_test, cat_preds_proba):.4f}\")\n",
    "print(\"\\nClassification Report:\")\n",
    "print(classification_report(y_test, cat_preds))\n",
    "\n",
    "print(\"Confusion Matrix:\")\n",
    "cm = confusion_matrix(y_test, cat_preds)\n",
    "sns.heatmap(cm, annot=True, fmt='d', cmap='Greens')\n",
    "plt.title('CatBoost Confusion Matrix')\n",
    "plt.ylabel('Actual')\n",
    "plt.xlabel('Predicted')\n",
    "plt.show()"
   ]
  },
  {
   "cell_type": "markdown",
   "id": "6afa3067-9308-41ae-b33d-dcf08de554c9",
   "metadata": {},
   "source": [
    "# Model Comparison & Feature Importance\n",
    "This section provides a head-to-head comparison of the two models based on their AUC scores. We then examine the feature importance from the better-performing model (CatBoost) to understand which factors were most influential in predicting readmissions."
   ]
  },
  {
   "cell_type": "code",
   "execution_count": 19,
   "id": "4743e1ca-734f-4860-a645-8e9ad59d04fc",
   "metadata": {},
   "outputs": [
    {
     "name": "stdout",
     "output_type": "stream",
     "text": [
      "--- Model Comparison ---\n",
      "LightGBM AUC: 0.9538\n",
      "CatBoost AUC: 0.9570\n",
      "\n",
      "Features by Importance (from CatBoost):\n"
     ]
    },
    {
     "data": {
      "text/html": [
       "<div>\n",
       "<style scoped>\n",
       "    .dataframe tbody tr th:only-of-type {\n",
       "        vertical-align: middle;\n",
       "    }\n",
       "\n",
       "    .dataframe tbody tr th {\n",
       "        vertical-align: top;\n",
       "    }\n",
       "\n",
       "    .dataframe thead th {\n",
       "        text-align: right;\n",
       "    }\n",
       "</style>\n",
       "<table border=\"1\" class=\"dataframe\">\n",
       "  <thead>\n",
       "    <tr style=\"text-align: right;\">\n",
       "      <th></th>\n",
       "      <th>feature</th>\n",
       "      <th>importance</th>\n",
       "    </tr>\n",
       "  </thead>\n",
       "  <tbody>\n",
       "    <tr>\n",
       "      <th>10</th>\n",
       "      <td>primary_diagnosis_code</td>\n",
       "      <td>24.517878</td>\n",
       "    </tr>\n",
       "    <tr>\n",
       "      <th>15</th>\n",
       "      <td>num_procedures</td>\n",
       "      <td>22.084662</td>\n",
       "    </tr>\n",
       "    <tr>\n",
       "      <th>5</th>\n",
       "      <td>admission_reason</td>\n",
       "      <td>16.036298</td>\n",
       "    </tr>\n",
       "    <tr>\n",
       "      <th>11</th>\n",
       "      <td>provider_id</td>\n",
       "      <td>5.568385</td>\n",
       "    </tr>\n",
       "    <tr>\n",
       "      <th>1</th>\n",
       "      <td>age_at_admission</td>\n",
       "      <td>5.563000</td>\n",
       "    </tr>\n",
       "    <tr>\n",
       "      <th>7</th>\n",
       "      <td>total_claim_cost</td>\n",
       "      <td>5.493817</td>\n",
       "    </tr>\n",
       "    <tr>\n",
       "      <th>13</th>\n",
       "      <td>prior_admissions_last_year</td>\n",
       "      <td>4.493833</td>\n",
       "    </tr>\n",
       "    <tr>\n",
       "      <th>12</th>\n",
       "      <td>payer_dx_interaction</td>\n",
       "      <td>2.545504</td>\n",
       "    </tr>\n",
       "    <tr>\n",
       "      <th>8</th>\n",
       "      <td>income</td>\n",
       "      <td>2.430199</td>\n",
       "    </tr>\n",
       "    <tr>\n",
       "      <th>6</th>\n",
       "      <td>payer</td>\n",
       "      <td>2.080557</td>\n",
       "    </tr>\n",
       "    <tr>\n",
       "      <th>0</th>\n",
       "      <td>length_of_stay</td>\n",
       "      <td>1.753056</td>\n",
       "    </tr>\n",
       "    <tr>\n",
       "      <th>9</th>\n",
       "      <td>admission_day_of_week</td>\n",
       "      <td>1.696785</td>\n",
       "    </tr>\n",
       "    <tr>\n",
       "      <th>14</th>\n",
       "      <td>num_diagnoses</td>\n",
       "      <td>1.544524</td>\n",
       "    </tr>\n",
       "    <tr>\n",
       "      <th>3</th>\n",
       "      <td>race</td>\n",
       "      <td>1.481276</td>\n",
       "    </tr>\n",
       "    <tr>\n",
       "      <th>4</th>\n",
       "      <td>marital_status</td>\n",
       "      <td>1.400826</td>\n",
       "    </tr>\n",
       "    <tr>\n",
       "      <th>16</th>\n",
       "      <td>num_medications</td>\n",
       "      <td>0.968385</td>\n",
       "    </tr>\n",
       "    <tr>\n",
       "      <th>2</th>\n",
       "      <td>gender</td>\n",
       "      <td>0.341016</td>\n",
       "    </tr>\n",
       "  </tbody>\n",
       "</table>\n",
       "</div>"
      ],
      "text/plain": [
       "                       feature  importance\n",
       "10      primary_diagnosis_code   24.517878\n",
       "15              num_procedures   22.084662\n",
       "5             admission_reason   16.036298\n",
       "11                 provider_id    5.568385\n",
       "1             age_at_admission    5.563000\n",
       "7             total_claim_cost    5.493817\n",
       "13  prior_admissions_last_year    4.493833\n",
       "12        payer_dx_interaction    2.545504\n",
       "8                       income    2.430199\n",
       "6                        payer    2.080557\n",
       "0               length_of_stay    1.753056\n",
       "9        admission_day_of_week    1.696785\n",
       "14               num_diagnoses    1.544524\n",
       "3                         race    1.481276\n",
       "4               marital_status    1.400826\n",
       "16             num_medications    0.968385\n",
       "2                       gender    0.341016"
      ]
     },
     "metadata": {},
     "output_type": "display_data"
    }
   ],
   "source": [
    "print(\"--- Model Comparison ---\")\n",
    "print(f\"LightGBM AUC: {roc_auc_score(y_test, lgbm_preds_proba):.4f}\")\n",
    "print(f\"CatBoost AUC: {roc_auc_score(y_test, cat_preds_proba):.4f}\")\n",
    "\n",
    "# Get feature importances from the better model (or both)\n",
    "# Let's assume CatBoost performed slightly better and use it for importance\n",
    "feature_importance_df = pd.DataFrame({\n",
    "    'feature': X.columns,\n",
    "    'importance': cat.get_feature_importance()\n",
    "}).sort_values('importance', ascending=False)\n",
    "\n",
    "print(\"\\nFeatures by Importance (from CatBoost):\")\n",
    "display(feature_importance_df)"
   ]
  },
  {
   "cell_type": "markdown",
   "id": "321036a5-fc41-4d6d-a692-94990853dff2",
   "metadata": {},
   "source": [
    "# Improving Recall\n",
    "Our initial models have high accuracy but struggle to correctly identify patients who are actually readmitted (low recall). This section explores techniques to address this class imbalance and improve recall, which is often more important in a clinical setting."
   ]
  },
  {
   "cell_type": "markdown",
   "id": "72af0227-b43e-407b-9cac-2f0884d2c172",
   "metadata": {},
   "source": [
    "## Adjust the Decision Threshold \n",
    "The most direct method to improve recall is to adjust the model's decision threshold. By default, a prediction probability of 0.5 is the cutoff for classifying a patient as \"readmitted.\" However, for an imbalanced problem like this one, a model might be uncertain about many true cases, assigning them probabilities below 0.5. By manually lowering this threshold, we can increase the model's sensitivity, capturing more of the true positive cases and thereby boosting recall. This action involves a direct trade-off, as a lower threshold will also increase the number of false positives, which reduces precision. A precision-recall curve is an excellent tool for visualizing this trade-off and selecting an optimal threshold that aligns with the project's clinical or business goals."
   ]
  },
  {
   "cell_type": "code",
   "execution_count": 20,
   "id": "0b1ce955-e687-4fc0-8ef7-341b55680634",
   "metadata": {},
   "outputs": [
    {
     "data": {
      "image/png": "[encoded data removed]",
      "text/plain": [
       "<Figure size 640x480 with 1 Axes>"
      ]
     },
     "metadata": {},
     "output_type": "display_data"
    },
    {
     "name": "stdout",
     "output_type": "stream",
     "text": [
      "--- Results with new threshold of 0.35 ---\n",
      "              precision    recall  f1-score   support\n",
      "\n",
      "           0       0.98      0.84      0.91     17107\n",
      "           1       0.56      0.93      0.70      3707\n",
      "\n",
      "    accuracy                           0.86     20814\n",
      "   macro avg       0.77      0.88      0.80     20814\n",
      "weighted avg       0.91      0.86      0.87     20814\n",
      "\n"
     ]
    }
   ],
   "source": [
    "import matplotlib.pyplot as plt\n",
    "from sklearn.metrics import precision_recall_curve, f1_score\n",
    "\n",
    "# Get prediction probabilities for the positive class\n",
    "y_probs = cat.predict_proba(X_test)[:, 1]\n",
    "\n",
    "# Calculate precision, recall, and thresholds\n",
    "precision, recall, thresholds = precision_recall_curve(y_test, y_probs)\n",
    "\n",
    "# Plot the curve\n",
    "plt.plot(thresholds, precision[:-1], 'b--', label='Precision')\n",
    "plt.plot(thresholds, recall[:-1], 'g-', label='Recall')\n",
    "plt.xlabel('Threshold')\n",
    "plt.legend(loc='center left')\n",
    "plt.title('Precision-Recall Curve')\n",
    "plt.show()\n",
    "\n",
    "# Example: Set a new threshold and see the result\n",
    "new_threshold = 0.25\n",
    "new_preds = (y_probs >= new_threshold).astype(int)\n",
    "\n",
    "print(\"--- Results with new threshold of 0.35 ---\")\n",
    "print(classification_report(y_test, new_preds))"
   ]
  },
  {
   "cell_type": "markdown",
   "id": "792dd1aa-df94-48cb-8b41-1b84090476cf",
   "metadata": {},
   "source": [
    "## Class Weighting\n",
    "Another powerful technique is class weighting, which modifies the model's training process to address the class imbalance directly. Standard models aim to maximize overall accuracy, and with an imbalanced dataset, they can achieve a high score simply by favoring the majority class (patients who are not readmitted). Class weighting counteracts this by applying a heavier penalty to the model whenever it misclassifies an instance of the minority class. By making mistakes on \"readmitted\" patients more \"costly,\" we force the algorithm to pay closer attention to their patterns, resulting in a model that is inherently better at identifying this smaller, more critical group."
   ]
  },
  {
   "cell_type": "code",
   "execution_count": 21,
   "id": "46029826-e0b0-48c4-81c5-7ef658818b51",
   "metadata": {},
   "outputs": [
    {
     "name": "stdout",
     "output_type": "stream",
     "text": [
      "Calculated scale_pos_weight: 4.62\n",
      "Training weighted CatBoost model...\n",
      "              precision    recall  f1-score   support\n",
      "\n",
      "           0       0.99      0.83      0.90     17107\n",
      "           1       0.55      0.95      0.69      3707\n",
      "\n",
      "    accuracy                           0.85     20814\n",
      "   macro avg       0.77      0.89      0.80     20814\n",
      "weighted avg       0.91      0.85      0.86     20814\n",
      "\n"
     ]
    }
   ],
   "source": [
    "from sklearn.utils.class_weight import compute_class_weight\n",
    "\n",
    "# Calculate the weight\n",
    "# count of not readmitted / count of readmitted\n",
    "scale_pos_weight = (y_train == 0).sum() / (y_train == 1).sum()\n",
    "\n",
    "print(f\"Calculated scale_pos_weight: {scale_pos_weight:.2f}\")\n",
    "\n",
    "# Re-initialize and retrain CatBoost with the new parameter\n",
    "cat_weighted = cb.CatBoostClassifier(\n",
    "    random_state=42,\n",
    "    verbose=0,\n",
    "    cat_features=categorical_features,\n",
    "    scale_pos_weight=scale_pos_weight  # Add the weight here\n",
    ")\n",
    "\n",
    "# Train the model\n",
    "print(\"Training weighted CatBoost model...\")\n",
    "cat_weighted.fit(X_train, y_train)\n",
    "\n",
    "# Evaluate the new model\n",
    "weighted_preds = cat_weighted.predict(X_test)\n",
    "print(classification_report(y_test, weighted_preds))"
   ]
  },
  {
   "cell_type": "markdown",
   "id": "22415046-3c30-420e-8b0d-3cec53a9dadb",
   "metadata": {},
   "source": [
    "## Combining Both\n",
    "These two techniques are not mutually exclusive and can be powerfully combined for the best overall performance. The process involves two stages. First, we train the model using class weighting, which creates a more recall-aware model from the outset by forcing it to learn the features of the minority class more effectively. Then, as a second step, we analyze the probability scores from this new, weighted model. By plotting a precision-recall curve for these adjusted scores, we can fine-tune the decision threshold to achieve the ideal balance between precision and recall that best suits the specific operational requirements."
   ]
  },
  {
   "cell_type": "code",
   "execution_count": 22,
   "id": "8bed4c89-25ce-4001-b98c-8703c8bc8bc0",
   "metadata": {},
   "outputs": [
    {
     "data": {
      "image/png": "[encoded data removed]",
      "text/plain": [
       "<Figure size 640x480 with 1 Axes>"
      ]
     },
     "metadata": {},
     "output_type": "display_data"
    }
   ],
   "source": [
    "# Use your trained weighted model: cat_weighted\n",
    "y_probs_weighted = cat_weighted.predict_proba(X_test)[:, 1]\n",
    "\n",
    "# Calculate precision, recall, and thresholds\n",
    "precision, recall, thresholds = precision_recall_curve(y_test, y_probs_weighted)\n",
    "\n",
    "# Plot the curve to find a good balance\n",
    "plt.plot(thresholds, precision[:-1], 'b--', label='Precision')\n",
    "plt.plot(thresholds, recall[:-1], 'g-', label='Recall')\n",
    "plt.xlabel('Threshold')\n",
    "plt.title('Precision-Recall Curve for Weighted Model')\n",
    "plt.legend()\n",
    "plt.show()"
   ]
  },
  {
   "cell_type": "code",
   "execution_count": 23,
   "id": "f09c0a89-a93b-4eea-9404-8109fe9d9423",
   "metadata": {},
   "outputs": [
    {
     "name": "stdout",
     "output_type": "stream",
     "text": [
      "--- Final Results with Threshold = 0.7 ---\n",
      "              precision    recall  f1-score   support\n",
      "\n",
      "           0       0.94      0.94      0.94     17107\n",
      "           1       0.72      0.72      0.72      3707\n",
      "\n",
      "    accuracy                           0.90     20814\n",
      "   macro avg       0.83      0.83      0.83     20814\n",
      "weighted avg       0.90      0.90      0.90     20814\n",
      "\n",
      "Confusion Matrix for Weighted Model:\n"
     ]
    },
    {
     "data": {
      "image/png": "[encoded data removed]",
      "text/plain": [
       "<Figure size 640x480 with 2 Axes>"
      ]
     },
     "metadata": {},
     "output_type": "display_data"
    }
   ],
   "source": [
    "# CHOOSE YOUR THRESHOLD BASED ON THE PLOT\n",
    "final_threshold = 0.7\n",
    "\n",
    "# Apply the threshold to the probabilities from your weighted model\n",
    "final_predictions = (y_probs_weighted >= final_threshold).astype(int)\n",
    "\n",
    "# Print the final, tuned classification report\n",
    "print(f\"--- Final Results with Threshold = {final_threshold} ---\")\n",
    "print(classification_report(y_test, final_predictions))\n",
    "\n",
    "print(\"Confusion Matrix for Weighted Model:\")\n",
    "cm_weighted = confusion_matrix(y_test, weighted_preds)\n",
    "sns.heatmap(cm_weighted, annot=True, fmt='d', cmap='Purples')\n",
    "plt.title('Weighted CatBoost Confusion Matrix')\n",
    "plt.ylabel('Actual')\n",
    "plt.xlabel('Predicted')\n",
    "plt.show()"
   ]
  },
  {
   "cell_type": "code",
   "execution_count": 24,
   "id": "6e0f74ff-1d9e-440e-b357-ce0f9dc3e01c",
   "metadata": {},
   "outputs": [
    {
     "name": "stdout",
     "output_type": "stream",
     "text": [
      "Your model's AUC score is: 0.9560\n"
     ]
    }
   ],
   "source": [
    "from sklearn.metrics import roc_auc_score\n",
    "\n",
    "# Use the probabilities from your final weighted model\n",
    "auc_score = roc_auc_score(y_test, y_probs_weighted)\n",
    "\n",
    "print(f\"Your model's AUC score is: {auc_score:.4f}\")"
   ]
  },
  {
   "cell_type": "markdown",
   "id": "5f7b2e3e-08d0-47a1-ad68-7942107357cd",
   "metadata": {},
   "source": [
    "## Cross Validation\n",
    "To get a more reliable estimate of our model's performance and ensure it wasn't just lucky on the initial train-test split, we perform 5-fold cross-validation. This process trains and validates the model multiple times on different subsets of the data, providing a more robust and generalizable performance metric."
   ]
  },
  {
   "cell_type": "code",
   "execution_count": 25,
   "id": "95b1a034-9cc9-4aa2-ae03-f45bec69f468",
   "metadata": {},
   "outputs": [
    {
     "name": "stdout",
     "output_type": "stream",
     "text": [
      "Starting 5-Fold Cross-Validation...\n",
      "--- Fold 1/5 ---\n",
      "Fold AUC: 0.9527\n",
      "--- Fold 2/5 ---\n",
      "Fold AUC: 0.9530\n",
      "--- Fold 3/5 ---\n",
      "Fold AUC: 0.9521\n",
      "--- Fold 4/5 ---\n",
      "Fold AUC: 0.9546\n",
      "--- Fold 5/5 ---\n",
      "Fold AUC: 0.9532\n",
      "\n",
      "--- Cross-Validation Complete ---\n",
      "AUC Scores for each fold: [0.9527, 0.953, 0.9521, 0.9546, 0.9532]\n",
      "Average AUC Score: 0.9531\n",
      "Standard Deviation: 0.0008\n"
     ]
    }
   ],
   "source": [
    "import numpy as np\n",
    "import catboost as cb\n",
    "from sklearn.model_selection import StratifiedKFold\n",
    "\n",
    "# --- 1. Prepare Your Data ---\n",
    "# Combine your training and testing sets back into one for cross-validation\n",
    "# Ensure X has the same preprocessing (NaN filling) as before\n",
    "X_full = pd.concat([X_train, X_test], ignore_index=True)\n",
    "y_full = pd.concat([y_train, y_test], ignore_index=True)\n",
    "\n",
    "# Define categorical features (as a list of column names)\n",
    "categorical_features = ['gender', 'race', 'marital_status', 'admission_reason', \n",
    "                        'payer', 'admission_day_of_week', 'primary_diagnosis_code', \n",
    "                        'provider_id', 'payer_dx_interaction']\n",
    "\n",
    "# --- 2. Set up K-Fold ---\n",
    "N_SPLITS = 5\n",
    "skf = StratifiedKFold(n_splits=N_SPLITS, shuffle=True, random_state=42)\n",
    "auc_scores = []\n",
    "\n",
    "print(f\"Starting {N_SPLITS}-Fold Cross-Validation...\")\n",
    "\n",
    "# --- 3. Loop Through Folds ---\n",
    "for fold, (train_idx, val_idx) in enumerate(skf.split(X_full, y_full)):\n",
    "    print(f\"--- Fold {fold+1}/{N_SPLITS} ---\")\n",
    "    \n",
    "    # Split data into training and validation sets for this fold\n",
    "    X_train_fold, X_val_fold = X_full.iloc[train_idx], X_full.iloc[val_idx]\n",
    "    y_train_fold, y_val_fold = y_full.iloc[train_idx], y_full.iloc[val_idx]\n",
    "\n",
    "    # Initialize and train your weighted CatBoost model\n",
    "    # Note: The weight is recalculated for each fold's training data\n",
    "    scale_pos_weight = (y_train_fold == 0).sum() / (y_train_fold == 1).sum()\n",
    "    \n",
    "    model = cb.CatBoostClassifier(\n",
    "        random_state=42,\n",
    "        verbose=0,\n",
    "        cat_features=categorical_features,\n",
    "        scale_pos_weight=scale_pos_weight\n",
    "    )\n",
    "    \n",
    "    model.fit(X_train_fold, y_train_fold)\n",
    "    \n",
    "    # Evaluate on the validation set\n",
    "    val_probs = model.predict_proba(X_val_fold)[:, 1]\n",
    "    fold_auc = roc_auc_score(y_val_fold, val_probs)\n",
    "    auc_scores.append(fold_auc)\n",
    "    print(f\"Fold AUC: {fold_auc:.4f}\")\n",
    "\n",
    "# --- 4. Get Final Results ---\n",
    "print(\"\\n--- Cross-Validation Complete ---\")\n",
    "print(f\"AUC Scores for each fold: {[round(score, 4) for score in auc_scores]}\")\n",
    "print(f\"Average AUC Score: {np.mean(auc_scores):.4f}\")\n",
    "print(f\"Standard Deviation: {np.std(auc_scores):.4f}\")"
   ]
  },
  {
   "cell_type": "markdown",
   "id": "b9b5d670-6008-4f92-9a69-59c91b42f52b",
   "metadata": {},
   "source": [
    "# Save the Final Model for Deployment\n",
    "With our model trained, tuned, and validated, the final step is to save the trained model object to a file. This preserves all the learned parameters and allows us to load the model directly into another application—such as an API—to make predictions on new data without having to retrain it from scratch. We will save the CatBoost model in its native .cbm format to the dedicated models directory."
   ]
  },
  {
   "cell_type": "code",
   "execution_count": 26,
   "id": "2ce208d3-08ee-47fe-8b5d-494194150dfb",
   "metadata": {},
   "outputs": [
    {
     "name": "stdout",
     "output_type": "stream",
     "text": [
      "✅ Model successfully saved to: ../models/catboost_readmissions_model.cbm\n"
     ]
    }
   ],
   "source": [
    "# --- Define the path for the models directory ---\n",
    "MODELS_DIR = Path(\"../models\")\n",
    "\n",
    "# Create the directory if it doesn't exist\n",
    "MODELS_DIR.mkdir(exist_ok=True)\n",
    "\n",
    "# --- Define the path for our final model file ---\n",
    "MODEL_FILE = MODELS_DIR / \"catboost_readmissions_model.cbm\"\n",
    "\n",
    "# Save the trained model (using your final weighted model object)\n",
    "cat_weighted.save_model(MODEL_FILE)\n",
    "\n",
    "print(f\"✅ Model successfully saved to: {MODEL_FILE}\")"
   ]
  }
 ],
 "metadata": {
  "kernelspec": {
   "display_name": "Python 3 (ipykernel)",
   "language": "python",
   "name": "python3"
  },
  "language_info": {
   "codemirror_mode": {
    "name": "ipython",
    "version": 3
   },
   "file_extension": ".py",
   "mimetype": "text/x-python",
   "name": "python",
   "nbconvert_exporter": "python",
   "pygments_lexer": "ipython3",
   "version": "3.10.18"
  }
 },
 "nbformat": 4,
 "nbformat_minor": 5
}
