{
 "cells": [
  {
   "cell_type": "code",
   "execution_count": 4,
   "id": "445bac95-56da-44c3-aa33-41c67021db05",
   "metadata": {},
   "outputs": [],
   "source": [
    "import pandas as pd\n",
    "import numpy as np\n",
    "from sklearn.model_selection import train_test_split\n",
    "from sklearn.preprocessing import StandardScaler, OneHotEncoder\n",
    "from sklearn.compose import ColumnTransformer\n",
    "from sklearn.pipeline import Pipeline\n",
    "from sklearn.linear_model import LogisticRegression\n",
    "from sklearn.metrics import classification_report, roc_auc_score\n",
    "from pathlib import Path\n",
    "import joblib\n",
    "\n",
    "# --- Configuration ---\n",
    "OUTPUT_DIR = Path(\"../output\")\n",
    "DATA_FILE = OUTPUT_DIR / \"readmissions_dataset.parquet\"\n",
    "MODEL_DIR = Path(\"../models\")\n",
    "MODEL_DIR.mkdir(exist_ok=True) # Create models directory if it doesn't exist\n",
    "\n",
    "# --- Plotting Style ---\n",
    "import matplotlib.pyplot as plt\n",
    "import seaborn as sns\n",
    "sns.set_style(\"whitegrid\")\n",
    "plt.rcParams['figure.figsize'] = (10, 6)"
   ]
  },
  {
   "cell_type": "markdown",
   "id": "7e16903b-f014-4106-a773-c2f22d68ca36",
   "metadata": {},
   "source": [
    "# 1. Data Loading"
   ]
  },
  {
   "cell_type": "code",
   "execution_count": 5,
   "id": "ce4f3183-c37a-4283-b2c1-ab55748c451c",
   "metadata": {},
   "outputs": [
    {
     "name": "stdout",
     "output_type": "stream",
     "text": [
      "Dataset loaded with 104,068 rows and 14 columns.\n",
      "\n",
      "First 5 rows:\n"
     ]
    },
    {
     "data": {
      "text/html": [
       "<div>\n",
       "<style scoped>\n",
       "    .dataframe tbody tr th:only-of-type {\n",
       "        vertical-align: middle;\n",
       "    }\n",
       "\n",
       "    .dataframe tbody tr th {\n",
       "        vertical-align: top;\n",
       "    }\n",
       "\n",
       "    .dataframe thead th {\n",
       "        text-align: right;\n",
       "    }\n",
       "</style>\n",
       "<table border=\"1\" class=\"dataframe\">\n",
       "  <thead>\n",
       "    <tr style=\"text-align: right;\">\n",
       "      <th></th>\n",
       "      <th>encounter_id</th>\n",
       "      <th>patient_id</th>\n",
       "      <th>readmitted_within_30_days</th>\n",
       "      <th>length_of_stay</th>\n",
       "      <th>age_at_admission</th>\n",
       "      <th>gender</th>\n",
       "      <th>race</th>\n",
       "      <th>marital_status</th>\n",
       "      <th>admission_reason</th>\n",
       "      <th>admission_reason_detail</th>\n",
       "      <th>prior_admissions_last_year</th>\n",
       "      <th>num_diagnoses</th>\n",
       "      <th>num_procedures</th>\n",
       "      <th>num_medications</th>\n",
       "    </tr>\n",
       "  </thead>\n",
       "  <tbody>\n",
       "    <tr>\n",
       "      <th>0</th>\n",
       "      <td>f32b1a30-3f4a-2b23-831d-c45357e8d9f0</td>\n",
       "      <td>ff1ffc37-c7f1-c69e-db86-97e58dd06a38</td>\n",
       "      <td>0</td>\n",
       "      <td>2</td>\n",
       "      <td>36</td>\n",
       "      <td>female</td>\n",
       "      <td>White</td>\n",
       "      <td>M</td>\n",
       "      <td>Admission to surgical department (procedure)</td>\n",
       "      <td>Sterilization requested (situation)</td>\n",
       "      <td>0</td>\n",
       "      <td>1.0</td>\n",
       "      <td>0.0</td>\n",
       "      <td>0.0</td>\n",
       "    </tr>\n",
       "    <tr>\n",
       "      <th>1</th>\n",
       "      <td>0fc59893-26d9-4651-ee0d-3b91506cbeb9</td>\n",
       "      <td>ff1ffc37-c7f1-c69e-db86-97e58dd06a38</td>\n",
       "      <td>1</td>\n",
       "      <td>1</td>\n",
       "      <td>65</td>\n",
       "      <td>female</td>\n",
       "      <td>White</td>\n",
       "      <td>M</td>\n",
       "      <td>Patient transfer to intensive care unit (proce...</td>\n",
       "      <td>History of coronary artery bypass grafting (si...</td>\n",
       "      <td>0</td>\n",
       "      <td>0.0</td>\n",
       "      <td>5.0</td>\n",
       "      <td>0.0</td>\n",
       "    </tr>\n",
       "    <tr>\n",
       "      <th>2</th>\n",
       "      <td>65a91317-1fa0-cf87-27a1-7b2daccba883</td>\n",
       "      <td>ff1ffc37-c7f1-c69e-db86-97e58dd06a38</td>\n",
       "      <td>0</td>\n",
       "      <td>1</td>\n",
       "      <td>65</td>\n",
       "      <td>female</td>\n",
       "      <td>White</td>\n",
       "      <td>M</td>\n",
       "      <td>Admission to ward (procedure)</td>\n",
       "      <td>History of coronary artery bypass grafting (si...</td>\n",
       "      <td>1</td>\n",
       "      <td>0.0</td>\n",
       "      <td>4.0</td>\n",
       "      <td>0.0</td>\n",
       "    </tr>\n",
       "    <tr>\n",
       "      <th>3</th>\n",
       "      <td>e2477992-082b-69ca-3152-6fecf4442626</td>\n",
       "      <td>45ccdf82-db5c-3947-2d97-ee18a8a9c4e3</td>\n",
       "      <td>0</td>\n",
       "      <td>12</td>\n",
       "      <td>53</td>\n",
       "      <td>female</td>\n",
       "      <td>White</td>\n",
       "      <td>W</td>\n",
       "      <td>Hospital admission for isolation (procedure)</td>\n",
       "      <td>Disease caused by severe acute respiratory syn...</td>\n",
       "      <td>0</td>\n",
       "      <td>4.0</td>\n",
       "      <td>27.0</td>\n",
       "      <td>0.0</td>\n",
       "    </tr>\n",
       "    <tr>\n",
       "      <th>4</th>\n",
       "      <td>735f3287-d205-1ec8-9668-fcdac03f306a</td>\n",
       "      <td>a5a065d0-a35b-d8e3-fda6-0e92c0a40926</td>\n",
       "      <td>0</td>\n",
       "      <td>1</td>\n",
       "      <td>63</td>\n",
       "      <td>female</td>\n",
       "      <td>White</td>\n",
       "      <td>M</td>\n",
       "      <td>Admission to intensive care unit (procedure)</td>\n",
       "      <td>Chronic congestive heart failure (disorder)</td>\n",
       "      <td>0</td>\n",
       "      <td>0.0</td>\n",
       "      <td>5.0</td>\n",
       "      <td>0.0</td>\n",
       "    </tr>\n",
       "  </tbody>\n",
       "</table>\n",
       "</div>"
      ],
      "text/plain": [
       "                           encounter_id                            patient_id  \\\n",
       "0  f32b1a30-3f4a-2b23-831d-c45357e8d9f0  ff1ffc37-c7f1-c69e-db86-97e58dd06a38   \n",
       "1  0fc59893-26d9-4651-ee0d-3b91506cbeb9  ff1ffc37-c7f1-c69e-db86-97e58dd06a38   \n",
       "2  65a91317-1fa0-cf87-27a1-7b2daccba883  ff1ffc37-c7f1-c69e-db86-97e58dd06a38   \n",
       "3  e2477992-082b-69ca-3152-6fecf4442626  45ccdf82-db5c-3947-2d97-ee18a8a9c4e3   \n",
       "4  735f3287-d205-1ec8-9668-fcdac03f306a  a5a065d0-a35b-d8e3-fda6-0e92c0a40926   \n",
       "\n",
       "   readmitted_within_30_days  length_of_stay  age_at_admission  gender   race  \\\n",
       "0                          0               2                36  female  White   \n",
       "1                          1               1                65  female  White   \n",
       "2                          0               1                65  female  White   \n",
       "3                          0              12                53  female  White   \n",
       "4                          0               1                63  female  White   \n",
       "\n",
       "  marital_status                                   admission_reason  \\\n",
       "0              M       Admission to surgical department (procedure)   \n",
       "1              M  Patient transfer to intensive care unit (proce...   \n",
       "2              M                      Admission to ward (procedure)   \n",
       "3              W       Hospital admission for isolation (procedure)   \n",
       "4              M       Admission to intensive care unit (procedure)   \n",
       "\n",
       "                             admission_reason_detail  \\\n",
       "0                Sterilization requested (situation)   \n",
       "1  History of coronary artery bypass grafting (si...   \n",
       "2  History of coronary artery bypass grafting (si...   \n",
       "3  Disease caused by severe acute respiratory syn...   \n",
       "4        Chronic congestive heart failure (disorder)   \n",
       "\n",
       "   prior_admissions_last_year  num_diagnoses  num_procedures  num_medications  \n",
       "0                           0            1.0             0.0              0.0  \n",
       "1                           0            0.0             5.0              0.0  \n",
       "2                           1            0.0             4.0              0.0  \n",
       "3                           0            4.0            27.0              0.0  \n",
       "4                           0            0.0             5.0              0.0  "
      ]
     },
     "metadata": {},
     "output_type": "display_data"
    },
    {
     "name": "stdout",
     "output_type": "stream",
     "text": [
      "\n",
      "Data Info:\n",
      "<class 'pandas.core.frame.DataFrame'>\n",
      "RangeIndex: 104068 entries, 0 to 104067\n",
      "Data columns (total 14 columns):\n",
      " #   Column                      Non-Null Count   Dtype  \n",
      "---  ------                      --------------   -----  \n",
      " 0   encounter_id                104068 non-null  object \n",
      " 1   patient_id                  104068 non-null  object \n",
      " 2   readmitted_within_30_days   104068 non-null  int32  \n",
      " 3   length_of_stay              104068 non-null  int64  \n",
      " 4   age_at_admission            104068 non-null  int64  \n",
      " 5   gender                      104068 non-null  object \n",
      " 6   race                        104068 non-null  object \n",
      " 7   marital_status              104068 non-null  object \n",
      " 8   admission_reason            104068 non-null  object \n",
      " 9   admission_reason_detail     104063 non-null  object \n",
      " 10  prior_admissions_last_year  104068 non-null  int64  \n",
      " 11  num_diagnoses               104068 non-null  float64\n",
      " 12  num_procedures              104068 non-null  float64\n",
      " 13  num_medications             104068 non-null  float64\n",
      "dtypes: float64(3), int32(1), int64(3), object(7)\n",
      "memory usage: 10.7+ MB\n"
     ]
    }
   ],
   "source": [
    "df = pd.read_parquet(DATA_FILE)\n",
    "\n",
    "print(f\"Dataset loaded with {df.shape[0]:,} rows and {df.shape[1]} columns.\")\n",
    "print(\"\\nFirst 5 rows:\")\n",
    "display(df.head())\n",
    "\n",
    "print(\"\\nData Info:\")\n",
    "df.info()"
   ]
  },
  {
   "cell_type": "markdown",
   "id": "15d0d8b5-bf51-4f55-bbe1-96682ba665f3",
   "metadata": {},
   "source": [
    "# 2. Feature Selection and Data Splitting"
   ]
  },
  {
   "cell_type": "code",
   "execution_count": 6,
   "id": "993217db-7388-4c10-9bfa-8c38a3a1d763",
   "metadata": {},
   "outputs": [
    {
     "name": "stdout",
     "output_type": "stream",
     "text": [
      "Training set shape: (83254, 9)\n",
      "Testing set shape: (20814, 9)\n"
     ]
    }
   ],
   "source": [
    "# Define target and features\n",
    "TARGET = 'readmitted_within_30_days'\n",
    "# Dropping ID columns and high-cardinality text columns for this initial model\n",
    "features = [col for col in df.columns if col not in [TARGET, 'encounter_id', 'patient_id', 'admission_reason', 'admission_reason_detail']]\n",
    "\n",
    "X = df[features]\n",
    "y = df[TARGET]\n",
    "\n",
    "# Split the data into training and testing sets\n",
    "X_train, X_test, y_train, y_test = train_test_split(X, y, test_size=0.2, random_state=42, stratify=y)\n",
    "\n",
    "print(f\"Training set shape: {X_train.shape}\")\n",
    "print(f\"Testing set shape: {X_test.shape}\")"
   ]
  },
  {
   "cell_type": "markdown",
   "id": "48972c1c-882c-4c3d-a369-ab646e1c70e5",
   "metadata": {},
   "source": [
    "# 3. Preprocessing Pipeline"
   ]
  },
  {
   "cell_type": "code",
   "execution_count": 7,
   "id": "eafdead2-2801-4959-87a5-178d05c9842f",
   "metadata": {},
   "outputs": [
    {
     "name": "stdout",
     "output_type": "stream",
     "text": [
      "Numeric features: ['length_of_stay', 'age_at_admission', 'prior_admissions_last_year', 'num_diagnoses', 'num_procedures', 'num_medications']\n",
      "Categorical features: ['gender', 'race', 'marital_status']\n"
     ]
    }
   ],
   "source": [
    "# Identify numeric and categorical features\n",
    "numeric_features = X.select_dtypes(include=np.number).columns.tolist()\n",
    "categorical_features = X.select_dtypes(exclude=np.number).columns.tolist()\n",
    "\n",
    "print(f\"Numeric features: {numeric_features}\")\n",
    "print(f\"Categorical features: {categorical_features}\")\n",
    "\n",
    "# Create preprocessing pipelines for numeric and categorical data\n",
    "numeric_transformer = StandardScaler()\n",
    "categorical_transformer = OneHotEncoder(handle_unknown='ignore')\n",
    "\n",
    "# Create a column transformer to apply different transformations to different columns\n",
    "preprocessor = ColumnTransformer(\n",
    "    transformers=[\n",
    "        ('num', numeric_transformer, numeric_features),\n",
    "        ('cat', categorical_transformer, categorical_features)\n",
    "    ])"
   ]
  },
  {
   "cell_type": "markdown",
   "id": "1801e8e9-4904-4963-9bef-ed20dd20508b",
   "metadata": {},
   "source": [
    "# 4. Model Training"
   ]
  },
  {
   "cell_type": "code",
   "execution_count": 8,
   "id": "1efb3e40-8bfb-47c4-b9b1-c2109f841647",
   "metadata": {},
   "outputs": [
    {
     "name": "stdout",
     "output_type": "stream",
     "text": [
      "Training the Logistic Regression model...\n",
      "Training complete.\n"
     ]
    }
   ],
   "source": [
    "# Define the model\n",
    "# Using class_weight='balanced' is a good practice for imbalanced datasets like this one.\n",
    "model = LogisticRegression(class_weight='balanced', random_state=42, max_iter=1000)\n",
    "\n",
    "# Create the full pipeline\n",
    "full_pipeline = Pipeline(steps=[('preprocessor', preprocessor),\n",
    "                                ('classifier', model)])\n",
    "\n",
    "# Train the model\n",
    "print(\"Training the Logistic Regression model...\")\n",
    "full_pipeline.fit(X_train, y_train)\n",
    "print(\"Training complete.\")"
   ]
  },
  {
   "cell_type": "markdown",
   "id": "9db0ad29-5c80-4812-8185-5d0c48863440",
   "metadata": {},
   "source": [
    "# 5. Model Evaluation"
   ]
  },
  {
   "cell_type": "code",
   "execution_count": 9,
   "id": "335735cf-cb39-4b24-b862-a2184fba54dd",
   "metadata": {},
   "outputs": [
    {
     "name": "stdout",
     "output_type": "stream",
     "text": [
      "\\n--- Classification Report ---\n",
      "              precision    recall  f1-score   support\n",
      "\n",
      "           0       0.94      0.74      0.83     17107\n",
      "           1       0.39      0.78      0.52      3707\n",
      "\n",
      "    accuracy                           0.75     20814\n",
      "   macro avg       0.67      0.76      0.68     20814\n",
      "weighted avg       0.84      0.75      0.77     20814\n",
      "\n",
      "--- ROC AUC Score ---\n",
      "0.8157\n"
     ]
    }
   ],
   "source": [
    "# Make predictions\n",
    "y_pred = full_pipeline.predict(X_test)\n",
    "y_pred_proba = full_pipeline.predict_proba(X_test)[:, 1]\n",
    "\n",
    "# Evaluate the model\n",
    "print(\"\\\\n--- Classification Report ---\")\n",
    "print(classification_report(y_test, y_pred))\n",
    "\n",
    "print(f\"--- ROC AUC Score ---\")\n",
    "print(f\"{roc_auc_score(y_test, y_pred_proba):.4f}\")"
   ]
  },
  {
   "cell_type": "markdown",
   "id": "8e91d29a-6ec3-4489-845a-81b3d748cedd",
   "metadata": {},
   "source": [
    "# 6. Save the Model"
   ]
  },
  {
   "cell_type": "code",
   "execution_count": 10,
   "id": "504a0348-a3ae-4155-b036-f528482571fb",
   "metadata": {},
   "outputs": [
    {
     "name": "stdout",
     "output_type": "stream",
     "text": [
      "\\nModel pipeline saved to: ../models/logistic_regression_pipeline_v1.joblib\n"
     ]
    }
   ],
   "source": [
    "# Save the pipeline to a file\n",
    "model_filename = MODEL_DIR / 'logistic_regression_pipeline_v1.joblib'\n",
    "joblib.dump(full_pipeline, model_filename)\n",
    "\n",
    "print(f\"\\\\nModel pipeline saved to: {model_filename}\")"
   ]
  },
  {
   "cell_type": "markdown",
   "id": "0ac37653-8c7e-4236-8f5e-c3234e363630",
   "metadata": {},
   "source": [
    "# 7. Gradient Boosting Model (XGBoost)"
   ]
  },
  {
   "cell_type": "code",
   "execution_count": 11,
   "id": "4b33874d-903c-4ea0-ba48-4b423c43f305",
   "metadata": {},
   "outputs": [
    {
     "name": "stdout",
     "output_type": "stream",
     "text": [
      "Training the XGBoost model...\n",
      "Training complete.\n"
     ]
    },
    {
     "name": "stderr",
     "output_type": "stream",
     "text": [
      "/usr/local/lib/python3.10/site-packages/xgboost/training.py:183: UserWarning: [20:45:53] WARNING: /workspace/src/learner.cc:738: \n",
      "Parameters: { \"use_label_encoder\" } are not used.\n",
      "\n",
      "  bst.update(dtrain, iteration=i, fobj=obj)\n"
     ]
    }
   ],
   "source": [
    "import xgboost as xgb\n",
    "\n",
    "# --- XGBoost Model Definition ---\n",
    "\n",
    "# Calculate the scale_pos_weight for handling class imbalance\n",
    "# It's the ratio of negative class to positive class\n",
    "scale_pos_weight = y_train.value_counts()[0] / y_train.value_counts()[1]\n",
    "\n",
    "xgb_model = xgb.XGBClassifier(\n",
    "    objective='binary:logistic',\n",
    "    scale_pos_weight=scale_pos_weight, # Handles imbalance\n",
    "    use_label_encoder=False,\n",
    "    eval_metric='logloss',\n",
    "    random_state=42\n",
    ")\n",
    "\n",
    "# Create the full pipeline with the XGBoost model\n",
    "xgb_pipeline = Pipeline(steps=[('preprocessor', preprocessor),\n",
    "                               ('classifier', xgb_model)])\n",
    "\n",
    "# Train the model\n",
    "print(\"Training the XGBoost model...\")\n",
    "xgb_pipeline.fit(X_train, y_train)\n",
    "print(\"Training complete.\")"
   ]
  },
  {
   "cell_type": "markdown",
   "id": "de314c73-0e3d-447c-8bc7-6bed47e1fd01",
   "metadata": {},
   "source": [
    "# 8. XGBoost Model Evaluation"
   ]
  },
  {
   "cell_type": "code",
   "execution_count": 12,
   "id": "a6abd5b7-b578-49b7-9027-5fb024adbc95",
   "metadata": {},
   "outputs": [
    {
     "name": "stdout",
     "output_type": "stream",
     "text": [
      "\\n--- Classification Report (XGBoost) ---\n",
      "              precision    recall  f1-score   support\n",
      "\n",
      "           0       0.98      0.79      0.88     17107\n",
      "           1       0.49      0.92      0.64      3707\n",
      "\n",
      "    accuracy                           0.81     20814\n",
      "   macro avg       0.73      0.85      0.76     20814\n",
      "weighted avg       0.89      0.81      0.83     20814\n",
      "\n",
      "--- ROC AUC Score (XGBoost) ---\n",
      "0.9265\n"
     ]
    }
   ],
   "source": [
    "# Make predictions with the XGBoost pipeline\n",
    "y_pred_xgb = xgb_pipeline.predict(X_test)\n",
    "y_pred_proba_xgb = xgb_pipeline.predict_proba(X_test)[:, 1]\n",
    "\n",
    "# Evaluate the model\n",
    "print(\"\\\\n--- Classification Report (XGBoost) ---\")\n",
    "print(classification_report(y_test, y_pred_xgb))\n",
    "\n",
    "print(f\"--- ROC AUC Score (XGBoost) ---\")\n",
    "print(f\"{roc_auc_score(y_test, y_pred_proba_xgb):.4f}\")"
   ]
  },
  {
   "cell_type": "markdown",
   "id": "55e831ef-83cf-4264-a92e-252467b617ef",
   "metadata": {},
   "source": [
    "# 9. Save the XGBoost Model"
   ]
  },
  {
   "cell_type": "code",
   "execution_count": 13,
   "id": "b0c1cea7-d387-4b18-88be-23d515699c07",
   "metadata": {},
   "outputs": [
    {
     "name": "stdout",
     "output_type": "stream",
     "text": [
      "\\nModel pipeline saved to: ../models/xgboost_pipeline_v1.joblib\n"
     ]
    }
   ],
   "source": [
    "# Save the XGBoost pipeline to a file\n",
    "model_filename_xgb = MODEL_DIR / 'xgboost_pipeline_v1.joblib'\n",
    "joblib.dump(xgb_pipeline, model_filename_xgb)\n",
    "\n",
    "print(f\"\\\\nModel pipeline saved to: {model_filename_xgb}\")"
   ]
  },
  {
   "cell_type": "code",
   "execution_count": null,
   "id": "743f901b-e712-4976-815b-bf3caf3a6ab0",
   "metadata": {},
   "outputs": [],
   "source": []
  }
 ],
 "metadata": {
  "kernelspec": {
   "display_name": "Python 3 (ipykernel)",
   "language": "python",
   "name": "python3"
  },
  "language_info": {
   "codemirror_mode": {
    "name": "ipython",
    "version": 3
   },
   "file_extension": ".py",
   "mimetype": "text/x-python",
   "name": "python",
   "nbconvert_exporter": "python",
   "pygments_lexer": "ipython3",
   "version": "3.10.18"
  }
 },
 "nbformat": 4,
 "nbformat_minor": 5
}
